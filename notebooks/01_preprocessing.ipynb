{
 "cells": [
  {
   "cell_type": "markdown",
   "metadata": {},
   "source": [
    "# Preparacion y Exploración de los datos"
   ]
  },
  {
   "cell_type": "markdown",
   "metadata": {},
   "source": [
    "El objetivo de este archivo es entender la naturaleza de cada variable, su tipo (numérica o categórica), y definir el tratamiento adecuado para garantizar un **preprocesamiento correcto antes de aplicar PCA**"
   ]
  },
  {
   "cell_type": "code",
   "execution_count": 1,
   "metadata": {},
   "outputs": [],
   "source": [
    "#librerias\n",
    "import pandas as pd\n",
    "import seaborn as sns\n",
    "import matplotlib.pyplot as plt\n",
    "from sklearn.preprocessing import StandardScaler, LabelEncoder, OneHotEncoder, OrdinalEncoder\n",
    "from sklearn.decomposition import PCA\n",
    "from sklearn.cluster import KMeans"
   ]
  },
  {
   "cell_type": "markdown",
   "metadata": {},
   "source": [
    "## Carga datos y Exploración Inicial"
   ]
  },
  {
   "cell_type": "code",
   "execution_count": 2,
   "metadata": {},
   "outputs": [
    {
     "data": {
      "text/html": [
       "<div>\n",
       "<style scoped>\n",
       "    .dataframe tbody tr th:only-of-type {\n",
       "        vertical-align: middle;\n",
       "    }\n",
       "\n",
       "    .dataframe tbody tr th {\n",
       "        vertical-align: top;\n",
       "    }\n",
       "\n",
       "    .dataframe thead th {\n",
       "        text-align: right;\n",
       "    }\n",
       "</style>\n",
       "<table border=\"1\" class=\"dataframe\">\n",
       "  <thead>\n",
       "    <tr style=\"text-align: right;\">\n",
       "      <th></th>\n",
       "      <th>ID</th>\n",
       "      <th>Genero</th>\n",
       "      <th>Casado</th>\n",
       "      <th>Edad</th>\n",
       "      <th>Graduado</th>\n",
       "      <th>Profesion</th>\n",
       "      <th>Experiencia_laboral</th>\n",
       "      <th>Gastoscore</th>\n",
       "      <th>Family_Size</th>\n",
       "      <th>anno_nacimiento</th>\n",
       "      <th>Generacion</th>\n",
       "      <th>Ingresos_anuales_brutos</th>\n",
       "      <th>Provincia</th>\n",
       "      <th>Digital_encuesta</th>\n",
       "      <th>Gasto_medio_mensual_cuota</th>\n",
       "      <th>Abandono</th>\n",
       "      <th>Dias_cliente</th>\n",
       "      <th>Campanna_anno</th>\n",
       "    </tr>\n",
       "  </thead>\n",
       "  <tbody>\n",
       "    <tr>\n",
       "      <th>0</th>\n",
       "      <td>CLI10</td>\n",
       "      <td>F</td>\n",
       "      <td>Si</td>\n",
       "      <td>67</td>\n",
       "      <td>Si</td>\n",
       "      <td>Ingeniero</td>\n",
       "      <td>+20annos</td>\n",
       "      <td>Bajo</td>\n",
       "      <td>3</td>\n",
       "      <td>1957</td>\n",
       "      <td>Generacion X</td>\n",
       "      <td>93442</td>\n",
       "      <td>Segovia</td>\n",
       "      <td>1385</td>\n",
       "      <td>80</td>\n",
       "      <td>1</td>\n",
       "      <td>195</td>\n",
       "      <td>NaN</td>\n",
       "    </tr>\n",
       "    <tr>\n",
       "      <th>1</th>\n",
       "      <td>CLI100</td>\n",
       "      <td>M</td>\n",
       "      <td>Si</td>\n",
       "      <td>64</td>\n",
       "      <td>Si</td>\n",
       "      <td>Medico</td>\n",
       "      <td>+20annos</td>\n",
       "      <td>Medio</td>\n",
       "      <td>2</td>\n",
       "      <td>1960</td>\n",
       "      <td>Generacion X</td>\n",
       "      <td>99774</td>\n",
       "      <td>Alicante</td>\n",
       "      <td>1052</td>\n",
       "      <td>50</td>\n",
       "      <td>1</td>\n",
       "      <td>360</td>\n",
       "      <td>5.0</td>\n",
       "    </tr>\n",
       "    <tr>\n",
       "      <th>2</th>\n",
       "      <td>CLI1000</td>\n",
       "      <td>M</td>\n",
       "      <td>Si</td>\n",
       "      <td>65</td>\n",
       "      <td>Si</td>\n",
       "      <td>Artista</td>\n",
       "      <td>+20annos</td>\n",
       "      <td>Medio</td>\n",
       "      <td>3</td>\n",
       "      <td>1959</td>\n",
       "      <td>Generacion X</td>\n",
       "      <td>36756</td>\n",
       "      <td>Toledo</td>\n",
       "      <td>1717</td>\n",
       "      <td>30</td>\n",
       "      <td>0</td>\n",
       "      <td>407</td>\n",
       "      <td>3.0</td>\n",
       "    </tr>\n",
       "    <tr>\n",
       "      <th>3</th>\n",
       "      <td>CLI10000</td>\n",
       "      <td>M</td>\n",
       "      <td>No</td>\n",
       "      <td>33</td>\n",
       "      <td>No</td>\n",
       "      <td>Funcionario</td>\n",
       "      <td>10-20annos</td>\n",
       "      <td>Bajo</td>\n",
       "      <td>4</td>\n",
       "      <td>1991</td>\n",
       "      <td>Millennials</td>\n",
       "      <td>24616</td>\n",
       "      <td>Leon</td>\n",
       "      <td>1606</td>\n",
       "      <td>30</td>\n",
       "      <td>0</td>\n",
       "      <td>544</td>\n",
       "      <td>4.0</td>\n",
       "    </tr>\n",
       "    <tr>\n",
       "      <th>4</th>\n",
       "      <td>CLI10001</td>\n",
       "      <td>M</td>\n",
       "      <td>Si</td>\n",
       "      <td>52</td>\n",
       "      <td>No</td>\n",
       "      <td>Otros</td>\n",
       "      <td>+20annos</td>\n",
       "      <td>Medio</td>\n",
       "      <td>2</td>\n",
       "      <td>1972</td>\n",
       "      <td>Generacion X</td>\n",
       "      <td>29834</td>\n",
       "      <td>LLeida</td>\n",
       "      <td>1346</td>\n",
       "      <td>30</td>\n",
       "      <td>1</td>\n",
       "      <td>170</td>\n",
       "      <td>NaN</td>\n",
       "    </tr>\n",
       "  </tbody>\n",
       "</table>\n",
       "</div>"
      ],
      "text/plain": [
       "         ID Genero Casado  Edad Graduado    Profesion Experiencia_laboral  \\\n",
       "0     CLI10      F     Si    67       Si    Ingeniero            +20annos   \n",
       "1    CLI100      M     Si    64       Si       Medico            +20annos   \n",
       "2   CLI1000      M     Si    65       Si      Artista            +20annos   \n",
       "3  CLI10000      M     No    33       No  Funcionario          10-20annos   \n",
       "4  CLI10001      M     Si    52       No        Otros            +20annos   \n",
       "\n",
       "  Gastoscore  Family_Size  anno_nacimiento    Generacion  \\\n",
       "0       Bajo            3             1957  Generacion X   \n",
       "1      Medio            2             1960  Generacion X   \n",
       "2      Medio            3             1959  Generacion X   \n",
       "3       Bajo            4             1991   Millennials   \n",
       "4      Medio            2             1972  Generacion X   \n",
       "\n",
       "   Ingresos_anuales_brutos Provincia  Digital_encuesta  \\\n",
       "0                    93442   Segovia              1385   \n",
       "1                    99774  Alicante              1052   \n",
       "2                    36756    Toledo              1717   \n",
       "3                    24616      Leon              1606   \n",
       "4                    29834    LLeida              1346   \n",
       "\n",
       "   Gasto_medio_mensual_cuota  Abandono  Dias_cliente  Campanna_anno  \n",
       "0                         80         1           195            NaN  \n",
       "1                         50         1           360            5.0  \n",
       "2                         30         0           407            3.0  \n",
       "3                         30         0           544            4.0  \n",
       "4                         30         1           170            NaN  "
      ]
     },
     "execution_count": 2,
     "metadata": {},
     "output_type": "execute_result"
    }
   ],
   "source": [
    "df=pd.read_csv('../data/raw/data.csv')\n",
    "df.head()"
   ]
  },
  {
   "cell_type": "markdown",
   "metadata": {},
   "source": [
    "**Exploración Inicial:**"
   ]
  },
  {
   "cell_type": "code",
   "execution_count": 3,
   "metadata": {},
   "outputs": [
    {
     "data": {
      "text/plain": [
       "(10806, 18)"
      ]
     },
     "execution_count": 3,
     "metadata": {},
     "output_type": "execute_result"
    }
   ],
   "source": [
    "# Registros\n",
    "df.shape"
   ]
  },
  {
   "cell_type": "code",
   "execution_count": 4,
   "metadata": {},
   "outputs": [
    {
     "data": {
      "text/plain": [
       "Index(['ID', 'Genero', 'Casado', 'Edad', 'Graduado', 'Profesion',\n",
       "       'Experiencia_laboral', 'Gastoscore', 'Family_Size', 'anno_nacimiento',\n",
       "       'Generacion', 'Ingresos_anuales_brutos', 'Provincia',\n",
       "       'Digital_encuesta', 'Gasto_medio_mensual_cuota', 'Abandono',\n",
       "       'Dias_cliente', 'Campanna_anno'],\n",
       "      dtype='object')"
      ]
     },
     "execution_count": 4,
     "metadata": {},
     "output_type": "execute_result"
    }
   ],
   "source": [
    "# Columnas\n",
    "df.columns"
   ]
  },
  {
   "cell_type": "code",
   "execution_count": 5,
   "metadata": {},
   "outputs": [
    {
     "data": {
      "text/plain": [
       "ID                            object\n",
       "Genero                        object\n",
       "Casado                        object\n",
       "Edad                           int64\n",
       "Graduado                      object\n",
       "Profesion                     object\n",
       "Experiencia_laboral           object\n",
       "Gastoscore                    object\n",
       "Family_Size                    int64\n",
       "anno_nacimiento                int64\n",
       "Generacion                    object\n",
       "Ingresos_anuales_brutos        int64\n",
       "Provincia                     object\n",
       "Digital_encuesta               int64\n",
       "Gasto_medio_mensual_cuota      int64\n",
       "Abandono                       int64\n",
       "Dias_cliente                   int64\n",
       "Campanna_anno                float64\n",
       "dtype: object"
      ]
     },
     "execution_count": 5,
     "metadata": {},
     "output_type": "execute_result"
    }
   ],
   "source": [
    "# Variables\n",
    "df.dtypes"
   ]
  },
  {
   "cell_type": "code",
   "execution_count": 6,
   "metadata": {},
   "outputs": [
    {
     "data": {
      "text/html": [
       "<div>\n",
       "<style scoped>\n",
       "    .dataframe tbody tr th:only-of-type {\n",
       "        vertical-align: middle;\n",
       "    }\n",
       "\n",
       "    .dataframe tbody tr th {\n",
       "        vertical-align: top;\n",
       "    }\n",
       "\n",
       "    .dataframe thead th {\n",
       "        text-align: right;\n",
       "    }\n",
       "</style>\n",
       "<table border=\"1\" class=\"dataframe\">\n",
       "  <thead>\n",
       "    <tr style=\"text-align: right;\">\n",
       "      <th></th>\n",
       "      <th>ID</th>\n",
       "      <th>Genero</th>\n",
       "      <th>Casado</th>\n",
       "      <th>Edad</th>\n",
       "      <th>Graduado</th>\n",
       "      <th>Profesion</th>\n",
       "      <th>Experiencia_laboral</th>\n",
       "      <th>Gastoscore</th>\n",
       "      <th>Family_Size</th>\n",
       "      <th>anno_nacimiento</th>\n",
       "      <th>Generacion</th>\n",
       "      <th>Ingresos_anuales_brutos</th>\n",
       "      <th>Provincia</th>\n",
       "      <th>Digital_encuesta</th>\n",
       "      <th>Gasto_medio_mensual_cuota</th>\n",
       "      <th>Abandono</th>\n",
       "      <th>Dias_cliente</th>\n",
       "      <th>Campanna_anno</th>\n",
       "    </tr>\n",
       "  </thead>\n",
       "  <tbody>\n",
       "    <tr>\n",
       "      <th>count</th>\n",
       "      <td>10806</td>\n",
       "      <td>10806</td>\n",
       "      <td>10616</td>\n",
       "      <td>10806.000000</td>\n",
       "      <td>10703</td>\n",
       "      <td>10806</td>\n",
       "      <td>10806</td>\n",
       "      <td>10806</td>\n",
       "      <td>10806.000000</td>\n",
       "      <td>10806.000000</td>\n",
       "      <td>10806</td>\n",
       "      <td>10806.000000</td>\n",
       "      <td>10806</td>\n",
       "      <td>10806.000000</td>\n",
       "      <td>10806.000000</td>\n",
       "      <td>10806.000000</td>\n",
       "      <td>10806.000000</td>\n",
       "      <td>5099.000000</td>\n",
       "    </tr>\n",
       "    <tr>\n",
       "      <th>unique</th>\n",
       "      <td>10806</td>\n",
       "      <td>2</td>\n",
       "      <td>2</td>\n",
       "      <td>NaN</td>\n",
       "      <td>2</td>\n",
       "      <td>9</td>\n",
       "      <td>3</td>\n",
       "      <td>3</td>\n",
       "      <td>NaN</td>\n",
       "      <td>NaN</td>\n",
       "      <td>4</td>\n",
       "      <td>NaN</td>\n",
       "      <td>50</td>\n",
       "      <td>NaN</td>\n",
       "      <td>NaN</td>\n",
       "      <td>NaN</td>\n",
       "      <td>NaN</td>\n",
       "      <td>NaN</td>\n",
       "    </tr>\n",
       "    <tr>\n",
       "      <th>top</th>\n",
       "      <td>CLI10</td>\n",
       "      <td>M</td>\n",
       "      <td>Si</td>\n",
       "      <td>NaN</td>\n",
       "      <td>Si</td>\n",
       "      <td>Artista</td>\n",
       "      <td>+20annos</td>\n",
       "      <td>Bajo</td>\n",
       "      <td>NaN</td>\n",
       "      <td>NaN</td>\n",
       "      <td>Generacion X</td>\n",
       "      <td>NaN</td>\n",
       "      <td>Madrid</td>\n",
       "      <td>NaN</td>\n",
       "      <td>NaN</td>\n",
       "      <td>NaN</td>\n",
       "      <td>NaN</td>\n",
       "      <td>NaN</td>\n",
       "    </tr>\n",
       "    <tr>\n",
       "      <th>freq</th>\n",
       "      <td>1</td>\n",
       "      <td>5904</td>\n",
       "      <td>6217</td>\n",
       "      <td>NaN</td>\n",
       "      <td>6637</td>\n",
       "      <td>3354</td>\n",
       "      <td>6289</td>\n",
       "      <td>6574</td>\n",
       "      <td>NaN</td>\n",
       "      <td>NaN</td>\n",
       "      <td>4871</td>\n",
       "      <td>NaN</td>\n",
       "      <td>326</td>\n",
       "      <td>NaN</td>\n",
       "      <td>NaN</td>\n",
       "      <td>NaN</td>\n",
       "      <td>NaN</td>\n",
       "      <td>NaN</td>\n",
       "    </tr>\n",
       "    <tr>\n",
       "      <th>mean</th>\n",
       "      <td>NaN</td>\n",
       "      <td>NaN</td>\n",
       "      <td>NaN</td>\n",
       "      <td>47.920415</td>\n",
       "      <td>NaN</td>\n",
       "      <td>NaN</td>\n",
       "      <td>NaN</td>\n",
       "      <td>NaN</td>\n",
       "      <td>2.764390</td>\n",
       "      <td>1976.075236</td>\n",
       "      <td>NaN</td>\n",
       "      <td>56113.470387</td>\n",
       "      <td>NaN</td>\n",
       "      <td>1597.302610</td>\n",
       "      <td>45.285027</td>\n",
       "      <td>0.297983</td>\n",
       "      <td>298.006293</td>\n",
       "      <td>3.592077</td>\n",
       "    </tr>\n",
       "    <tr>\n",
       "      <th>std</th>\n",
       "      <td>NaN</td>\n",
       "      <td>NaN</td>\n",
       "      <td>NaN</td>\n",
       "      <td>18.432100</td>\n",
       "      <td>NaN</td>\n",
       "      <td>NaN</td>\n",
       "      <td>NaN</td>\n",
       "      <td>NaN</td>\n",
       "      <td>1.548241</td>\n",
       "      <td>18.431804</td>\n",
       "      <td>NaN</td>\n",
       "      <td>35458.081118</td>\n",
       "      <td>NaN</td>\n",
       "      <td>2135.573309</td>\n",
       "      <td>28.674032</td>\n",
       "      <td>0.457393</td>\n",
       "      <td>148.844349</td>\n",
       "      <td>1.243383</td>\n",
       "    </tr>\n",
       "    <tr>\n",
       "      <th>min</th>\n",
       "      <td>NaN</td>\n",
       "      <td>NaN</td>\n",
       "      <td>NaN</td>\n",
       "      <td>20.000000</td>\n",
       "      <td>NaN</td>\n",
       "      <td>NaN</td>\n",
       "      <td>NaN</td>\n",
       "      <td>NaN</td>\n",
       "      <td>1.000000</td>\n",
       "      <td>1926.000000</td>\n",
       "      <td>NaN</td>\n",
       "      <td>12003.000000</td>\n",
       "      <td>NaN</td>\n",
       "      <td>7.000000</td>\n",
       "      <td>30.000000</td>\n",
       "      <td>0.000000</td>\n",
       "      <td>30.000000</td>\n",
       "      <td>1.000000</td>\n",
       "    </tr>\n",
       "    <tr>\n",
       "      <th>25%</th>\n",
       "      <td>NaN</td>\n",
       "      <td>NaN</td>\n",
       "      <td>NaN</td>\n",
       "      <td>33.000000</td>\n",
       "      <td>NaN</td>\n",
       "      <td>NaN</td>\n",
       "      <td>NaN</td>\n",
       "      <td>NaN</td>\n",
       "      <td>2.000000</td>\n",
       "      <td>1966.000000</td>\n",
       "      <td>NaN</td>\n",
       "      <td>24986.250000</td>\n",
       "      <td>NaN</td>\n",
       "      <td>876.000000</td>\n",
       "      <td>30.000000</td>\n",
       "      <td>0.000000</td>\n",
       "      <td>177.000000</td>\n",
       "      <td>3.000000</td>\n",
       "    </tr>\n",
       "    <tr>\n",
       "      <th>50%</th>\n",
       "      <td>NaN</td>\n",
       "      <td>NaN</td>\n",
       "      <td>NaN</td>\n",
       "      <td>45.000000</td>\n",
       "      <td>NaN</td>\n",
       "      <td>NaN</td>\n",
       "      <td>NaN</td>\n",
       "      <td>NaN</td>\n",
       "      <td>2.000000</td>\n",
       "      <td>1979.000000</td>\n",
       "      <td>NaN</td>\n",
       "      <td>43628.000000</td>\n",
       "      <td>NaN</td>\n",
       "      <td>1267.000000</td>\n",
       "      <td>30.000000</td>\n",
       "      <td>0.000000</td>\n",
       "      <td>289.000000</td>\n",
       "      <td>4.000000</td>\n",
       "    </tr>\n",
       "    <tr>\n",
       "      <th>75%</th>\n",
       "      <td>NaN</td>\n",
       "      <td>NaN</td>\n",
       "      <td>NaN</td>\n",
       "      <td>58.000000</td>\n",
       "      <td>NaN</td>\n",
       "      <td>NaN</td>\n",
       "      <td>NaN</td>\n",
       "      <td>NaN</td>\n",
       "      <td>4.000000</td>\n",
       "      <td>1991.000000</td>\n",
       "      <td>NaN</td>\n",
       "      <td>86678.500000</td>\n",
       "      <td>NaN</td>\n",
       "      <td>1678.000000</td>\n",
       "      <td>50.000000</td>\n",
       "      <td>1.000000</td>\n",
       "      <td>401.000000</td>\n",
       "      <td>5.000000</td>\n",
       "    </tr>\n",
       "    <tr>\n",
       "      <th>max</th>\n",
       "      <td>NaN</td>\n",
       "      <td>NaN</td>\n",
       "      <td>NaN</td>\n",
       "      <td>98.000000</td>\n",
       "      <td>NaN</td>\n",
       "      <td>NaN</td>\n",
       "      <td>NaN</td>\n",
       "      <td>NaN</td>\n",
       "      <td>9.000000</td>\n",
       "      <td>2004.000000</td>\n",
       "      <td>NaN</td>\n",
       "      <td>129963.000000</td>\n",
       "      <td>NaN</td>\n",
       "      <td>15215.000000</td>\n",
       "      <td>200.000000</td>\n",
       "      <td>1.000000</td>\n",
       "      <td>600.000000</td>\n",
       "      <td>5.000000</td>\n",
       "    </tr>\n",
       "  </tbody>\n",
       "</table>\n",
       "</div>"
      ],
      "text/plain": [
       "           ID Genero Casado          Edad Graduado Profesion  \\\n",
       "count   10806  10806  10616  10806.000000    10703     10806   \n",
       "unique  10806      2      2           NaN        2         9   \n",
       "top     CLI10      M     Si           NaN       Si   Artista   \n",
       "freq        1   5904   6217           NaN     6637      3354   \n",
       "mean      NaN    NaN    NaN     47.920415      NaN       NaN   \n",
       "std       NaN    NaN    NaN     18.432100      NaN       NaN   \n",
       "min       NaN    NaN    NaN     20.000000      NaN       NaN   \n",
       "25%       NaN    NaN    NaN     33.000000      NaN       NaN   \n",
       "50%       NaN    NaN    NaN     45.000000      NaN       NaN   \n",
       "75%       NaN    NaN    NaN     58.000000      NaN       NaN   \n",
       "max       NaN    NaN    NaN     98.000000      NaN       NaN   \n",
       "\n",
       "       Experiencia_laboral Gastoscore   Family_Size  anno_nacimiento  \\\n",
       "count                10806      10806  10806.000000     10806.000000   \n",
       "unique                   3          3           NaN              NaN   \n",
       "top               +20annos       Bajo           NaN              NaN   \n",
       "freq                  6289       6574           NaN              NaN   \n",
       "mean                   NaN        NaN      2.764390      1976.075236   \n",
       "std                    NaN        NaN      1.548241        18.431804   \n",
       "min                    NaN        NaN      1.000000      1926.000000   \n",
       "25%                    NaN        NaN      2.000000      1966.000000   \n",
       "50%                    NaN        NaN      2.000000      1979.000000   \n",
       "75%                    NaN        NaN      4.000000      1991.000000   \n",
       "max                    NaN        NaN      9.000000      2004.000000   \n",
       "\n",
       "          Generacion  Ingresos_anuales_brutos Provincia  Digital_encuesta  \\\n",
       "count          10806             10806.000000     10806      10806.000000   \n",
       "unique             4                      NaN        50               NaN   \n",
       "top     Generacion X                      NaN    Madrid               NaN   \n",
       "freq            4871                      NaN       326               NaN   \n",
       "mean             NaN             56113.470387       NaN       1597.302610   \n",
       "std              NaN             35458.081118       NaN       2135.573309   \n",
       "min              NaN             12003.000000       NaN          7.000000   \n",
       "25%              NaN             24986.250000       NaN        876.000000   \n",
       "50%              NaN             43628.000000       NaN       1267.000000   \n",
       "75%              NaN             86678.500000       NaN       1678.000000   \n",
       "max              NaN            129963.000000       NaN      15215.000000   \n",
       "\n",
       "        Gasto_medio_mensual_cuota      Abandono  Dias_cliente  Campanna_anno  \n",
       "count                10806.000000  10806.000000  10806.000000    5099.000000  \n",
       "unique                        NaN           NaN           NaN            NaN  \n",
       "top                           NaN           NaN           NaN            NaN  \n",
       "freq                          NaN           NaN           NaN            NaN  \n",
       "mean                    45.285027      0.297983    298.006293       3.592077  \n",
       "std                     28.674032      0.457393    148.844349       1.243383  \n",
       "min                     30.000000      0.000000     30.000000       1.000000  \n",
       "25%                     30.000000      0.000000    177.000000       3.000000  \n",
       "50%                     30.000000      0.000000    289.000000       4.000000  \n",
       "75%                     50.000000      1.000000    401.000000       5.000000  \n",
       "max                    200.000000      1.000000    600.000000       5.000000  "
      ]
     },
     "execution_count": 6,
     "metadata": {},
     "output_type": "execute_result"
    }
   ],
   "source": [
    "df.describe(include='all')"
   ]
  },
  {
   "cell_type": "markdown",
   "metadata": {},
   "source": [
    "A continuación se destacan algunas observaciones clave basadas en el análisis estadístico inicial:\n",
    "\n",
    "- **Completitud**: La mayoría de las variables tienen pocos valores faltantes. La variable `Casado` tiene 190 valores nulos y `Graduado`, 103. La más incompleta es `Campanna_anno`, con datos solo para 5.099 registros.\n",
    "\n",
    "- **Demografía**:\n",
    "  - La edad promedio de los clientes es de aproximadamente **48 años**, con un rango que va desde los **20 hasta los 98 años**.\n",
    "  - La **generación más frecuente** es la *Generación X*.\n",
    "  - El tamaño medio de la familia (`Family_Size`) es cercano a **2.8 miembros**, con un máximo de **9**.\n",
    "\n",
    "- **Ingresos y gasto**:\n",
    "  - Los ingresos anuales brutos varían ampliamente: desde unos **12.000 €** hasta más de **129.000 €**, con una media de **56.113 €**.\n",
    "  - El gasto medio mensual (`Gasto_medio_mensual_cuota`) también presenta alta dispersión, desde **30 €** hasta **200 €**.\n",
    "\n",
    "- **Otros indicadores**:\n",
    "  - El índice de digitalización (`Digital_encuesta`) va de **7 a 15.215**\n",
    "  - El número de días como cliente (`Dias_cliente`) oscila entre **30 y 600 días**, indicando que hay tanto clientes nuevos como de antigüedad media.\n",
    "  - La variable `Abandono` tiene una media de **0.298**, lo que indica que aproximadamente **el 30% de los clientes ha abandonado**.\n",
    "\n",
    "- **Variables categóricas**:\n",
    "  - La mayoría presentan una distribución equilibrada. Por ejemplo, el género tiene 5.904 hombres (~55%) y 4.902 mujeres (~45%).\n",
    "  - En `Gastoscore`, el valor más frecuente es \"Bajo\", lo cual puede estar asociado con un perfil de cliente más conservador financieramente.\n"
   ]
  },
  {
   "cell_type": "markdown",
   "metadata": {},
   "source": [
    "## Valores Nulos y Duplicados"
   ]
  },
  {
   "cell_type": "markdown",
   "metadata": {},
   "source": [
    "Creamos una copia del dataset original para trabajar no perder los datos brutos."
   ]
  },
  {
   "cell_type": "code",
   "execution_count": 7,
   "metadata": {},
   "outputs": [],
   "source": [
    "df_pca = df.copy()"
   ]
  },
  {
   "cell_type": "markdown",
   "metadata": {},
   "source": [
    "**Eliminación Inicial Columnas**\n",
    "\n",
    "- Se establece la columna `ID` como índice del DataFrame. Esto facilita la trazabilidad de cada cliente sin que esta variable interfiera en el análisis.\n",
    "- Se elimina la columna `anno_nacimiento`, ya que contiene información redundante con la variable `Edad`,"
   ]
  },
  {
   "cell_type": "code",
   "execution_count": 8,
   "metadata": {},
   "outputs": [],
   "source": [
    "df_pca.set_index('ID', inplace=True)"
   ]
  },
  {
   "cell_type": "code",
   "execution_count": 9,
   "metadata": {},
   "outputs": [],
   "source": [
    "# Eliminamos 'anno_nacimiento' porque ya contamos con la variable 'Edad'\n",
    "df_pca.drop(columns=['anno_nacimiento'], inplace=True)"
   ]
  },
  {
   "cell_type": "markdown",
   "metadata": {},
   "source": [
    "**Estudio nulos y Duplicados**"
   ]
  },
  {
   "cell_type": "code",
   "execution_count": 10,
   "metadata": {},
   "outputs": [
    {
     "data": {
      "text/html": [
       "<div>\n",
       "<style scoped>\n",
       "    .dataframe tbody tr th:only-of-type {\n",
       "        vertical-align: middle;\n",
       "    }\n",
       "\n",
       "    .dataframe tbody tr th {\n",
       "        vertical-align: top;\n",
       "    }\n",
       "\n",
       "    .dataframe thead th {\n",
       "        text-align: right;\n",
       "    }\n",
       "</style>\n",
       "<table border=\"1\" class=\"dataframe\">\n",
       "  <thead>\n",
       "    <tr style=\"text-align: right;\">\n",
       "      <th></th>\n",
       "      <th>Valores Nulos</th>\n",
       "      <th>Porcentaje (%)</th>\n",
       "    </tr>\n",
       "  </thead>\n",
       "  <tbody>\n",
       "    <tr>\n",
       "      <th>Campanna_anno</th>\n",
       "      <td>5707</td>\n",
       "      <td>52.813252</td>\n",
       "    </tr>\n",
       "    <tr>\n",
       "      <th>Casado</th>\n",
       "      <td>190</td>\n",
       "      <td>1.758282</td>\n",
       "    </tr>\n",
       "    <tr>\n",
       "      <th>Graduado</th>\n",
       "      <td>103</td>\n",
       "      <td>0.953174</td>\n",
       "    </tr>\n",
       "  </tbody>\n",
       "</table>\n",
       "</div>"
      ],
      "text/plain": [
       "               Valores Nulos  Porcentaje (%)\n",
       "Campanna_anno           5707       52.813252\n",
       "Casado                   190        1.758282\n",
       "Graduado                 103        0.953174"
      ]
     },
     "execution_count": 10,
     "metadata": {},
     "output_type": "execute_result"
    }
   ],
   "source": [
    "valores_nulos = df_pca.isnull().sum().to_frame(name='Valores Nulos')\n",
    "valores_nulos['Porcentaje (%)'] = (valores_nulos['Valores Nulos'] / len(df_pca)) * 100\n",
    "\n",
    "# Mostrar solo columnas que tienen nulos\n",
    "valores_nulos = valores_nulos[valores_nulos['Valores Nulos'] > 0].sort_values(by='Porcentaje (%)', ascending=False)\n",
    "\n",
    "valores_nulos"
   ]
  },
  {
   "cell_type": "markdown",
   "metadata": {},
   "source": [
    "- Se eliminaron directamente los registros que tenían valores nulos en las columnas **`Casado`** y **`Graduado`**.\n",
    "\n",
    "-  **`Campanna_anno`** tenía más del 50% de valores nulos, se imputaron estos valores con **0**.\n"
   ]
  },
  {
   "cell_type": "code",
   "execution_count": 11,
   "metadata": {},
   "outputs": [],
   "source": [
    "df_pca = df_pca.dropna(subset=['Casado', 'Graduado'])\n",
    "df_pca['Campanna_anno'] = df_pca['Campanna_anno'].fillna(0)"
   ]
  },
  {
   "cell_type": "code",
   "execution_count": 12,
   "metadata": {},
   "outputs": [
    {
     "data": {
      "text/plain": [
       "(10518, 16)"
      ]
     },
     "execution_count": 12,
     "metadata": {},
     "output_type": "execute_result"
    }
   ],
   "source": [
    "df_pca.shape"
   ]
  },
  {
   "cell_type": "markdown",
   "metadata": {},
   "source": [
    "## Clasificación Variables Continuas y Categóricas"
   ]
  },
  {
   "cell_type": "markdown",
   "metadata": {},
   "source": [
    "- **Variables continuas**: Incluyen solo aquellas con un comportamiento claramente numérico y cuantitativo, ideales para estandarizar y usar en PCA. Son:\n",
    "  - Edad\n",
    "  - Ingresos_anuales_brutos\n",
    "  - Digital_encuesta\n",
    "  - Dias_cliente\n",
    "\n",
    "- **Variables categóricas**: Aunque algunas son numéricas por tipo (int o float), su interpretación es discreta o cualitativa, por lo que se tratarán mediante codificación. Ejemplos:\n",
    "  - Genero, Casado, Graduado\n",
    "  - Profesion, Gastoscore, Generacion\n",
    "  - Abandono, Campanna_anno, Family_Size, Gasto_medio_mensual_cuota,\n"
   ]
  },
  {
   "cell_type": "code",
   "execution_count": 13,
   "metadata": {},
   "outputs": [
    {
     "name": "stdout",
     "output_type": "stream",
     "text": [
      "Variables continuas: Edad, Family_Size, Ingresos_anuales_brutos, Digital_encuesta, Gasto_medio_mensual_cuota, Abandono, Dias_cliente, Campanna_anno\n",
      "Variables categóricas: Genero, Casado, Graduado, Profesion, Experiencia_laboral, Gastoscore, Generacion, Provincia\n"
     ]
    }
   ],
   "source": [
    "v_continuas = []\n",
    "v_categoricas = []\n",
    "\n",
    "for col in df_pca.columns:\n",
    "    if df_pca[col].nunique() > 55 or df_pca[col].dtypes in ['float64', 'int64']:\n",
    "        v_continuas.append(col)\n",
    "    else:\n",
    "        v_categoricas.append(col)\n",
    "\n",
    "print('Variables continuas:', ', '.join(v_continuas))\n",
    "print('Variables categóricas:', ', '.join(v_categoricas))"
   ]
  },
  {
   "cell_type": "markdown",
   "metadata": {},
   "source": [
    "### Tratamiento Variables Categóricas"
   ]
  },
  {
   "cell_type": "code",
   "execution_count": 14,
   "metadata": {},
   "outputs": [
    {
     "data": {
      "text/html": [
       "<div>\n",
       "<style scoped>\n",
       "    .dataframe tbody tr th:only-of-type {\n",
       "        vertical-align: middle;\n",
       "    }\n",
       "\n",
       "    .dataframe tbody tr th {\n",
       "        vertical-align: top;\n",
       "    }\n",
       "\n",
       "    .dataframe thead th {\n",
       "        text-align: right;\n",
       "    }\n",
       "</style>\n",
       "<table border=\"1\" class=\"dataframe\">\n",
       "  <thead>\n",
       "    <tr style=\"text-align: right;\">\n",
       "      <th></th>\n",
       "      <th>Genero</th>\n",
       "      <th>Casado</th>\n",
       "      <th>Graduado</th>\n",
       "      <th>Profesion</th>\n",
       "      <th>Experiencia_laboral</th>\n",
       "      <th>Gastoscore</th>\n",
       "      <th>Generacion</th>\n",
       "      <th>Provincia</th>\n",
       "    </tr>\n",
       "    <tr>\n",
       "      <th>ID</th>\n",
       "      <th></th>\n",
       "      <th></th>\n",
       "      <th></th>\n",
       "      <th></th>\n",
       "      <th></th>\n",
       "      <th></th>\n",
       "      <th></th>\n",
       "      <th></th>\n",
       "    </tr>\n",
       "  </thead>\n",
       "  <tbody>\n",
       "    <tr>\n",
       "      <th>CLI10</th>\n",
       "      <td>F</td>\n",
       "      <td>Si</td>\n",
       "      <td>Si</td>\n",
       "      <td>Ingeniero</td>\n",
       "      <td>+20annos</td>\n",
       "      <td>Bajo</td>\n",
       "      <td>Generacion X</td>\n",
       "      <td>Segovia</td>\n",
       "    </tr>\n",
       "    <tr>\n",
       "      <th>CLI100</th>\n",
       "      <td>M</td>\n",
       "      <td>Si</td>\n",
       "      <td>Si</td>\n",
       "      <td>Medico</td>\n",
       "      <td>+20annos</td>\n",
       "      <td>Medio</td>\n",
       "      <td>Generacion X</td>\n",
       "      <td>Alicante</td>\n",
       "    </tr>\n",
       "    <tr>\n",
       "      <th>CLI1000</th>\n",
       "      <td>M</td>\n",
       "      <td>Si</td>\n",
       "      <td>Si</td>\n",
       "      <td>Artista</td>\n",
       "      <td>+20annos</td>\n",
       "      <td>Medio</td>\n",
       "      <td>Generacion X</td>\n",
       "      <td>Toledo</td>\n",
       "    </tr>\n",
       "    <tr>\n",
       "      <th>CLI10000</th>\n",
       "      <td>M</td>\n",
       "      <td>No</td>\n",
       "      <td>No</td>\n",
       "      <td>Funcionario</td>\n",
       "      <td>10-20annos</td>\n",
       "      <td>Bajo</td>\n",
       "      <td>Millennials</td>\n",
       "      <td>Leon</td>\n",
       "    </tr>\n",
       "    <tr>\n",
       "      <th>CLI10001</th>\n",
       "      <td>M</td>\n",
       "      <td>Si</td>\n",
       "      <td>No</td>\n",
       "      <td>Otros</td>\n",
       "      <td>+20annos</td>\n",
       "      <td>Medio</td>\n",
       "      <td>Generacion X</td>\n",
       "      <td>LLeida</td>\n",
       "    </tr>\n",
       "    <tr>\n",
       "      <th>...</th>\n",
       "      <td>...</td>\n",
       "      <td>...</td>\n",
       "      <td>...</td>\n",
       "      <td>...</td>\n",
       "      <td>...</td>\n",
       "      <td>...</td>\n",
       "      <td>...</td>\n",
       "      <td>...</td>\n",
       "    </tr>\n",
       "    <tr>\n",
       "      <th>CLI9995</th>\n",
       "      <td>F</td>\n",
       "      <td>Si</td>\n",
       "      <td>No</td>\n",
       "      <td>Servicios</td>\n",
       "      <td>+20annos</td>\n",
       "      <td>Alto</td>\n",
       "      <td>Generacion X</td>\n",
       "      <td>Toledo</td>\n",
       "    </tr>\n",
       "    <tr>\n",
       "      <th>CLI9996</th>\n",
       "      <td>F</td>\n",
       "      <td>No</td>\n",
       "      <td>Si</td>\n",
       "      <td>Funcionario</td>\n",
       "      <td>+20annos</td>\n",
       "      <td>Bajo</td>\n",
       "      <td>Generacion X</td>\n",
       "      <td>Cordoba</td>\n",
       "    </tr>\n",
       "    <tr>\n",
       "      <th>CLI9997</th>\n",
       "      <td>M</td>\n",
       "      <td>Si</td>\n",
       "      <td>Si</td>\n",
       "      <td>Ejecutivo</td>\n",
       "      <td>+20annos</td>\n",
       "      <td>Alto</td>\n",
       "      <td>Generacion X</td>\n",
       "      <td>Lugo</td>\n",
       "    </tr>\n",
       "    <tr>\n",
       "      <th>CLI9998</th>\n",
       "      <td>M</td>\n",
       "      <td>Si</td>\n",
       "      <td>Si</td>\n",
       "      <td>Artista</td>\n",
       "      <td>10-20annos</td>\n",
       "      <td>Alto</td>\n",
       "      <td>Millennials</td>\n",
       "      <td>Cuenca</td>\n",
       "    </tr>\n",
       "    <tr>\n",
       "      <th>CLI9999</th>\n",
       "      <td>M</td>\n",
       "      <td>Si</td>\n",
       "      <td>Si</td>\n",
       "      <td>Otros</td>\n",
       "      <td>10-20annos</td>\n",
       "      <td>Medio</td>\n",
       "      <td>Millennials</td>\n",
       "      <td>Guadalajara</td>\n",
       "    </tr>\n",
       "  </tbody>\n",
       "</table>\n",
       "<p>10518 rows × 8 columns</p>\n",
       "</div>"
      ],
      "text/plain": [
       "         Genero Casado Graduado    Profesion Experiencia_laboral Gastoscore  \\\n",
       "ID                                                                            \n",
       "CLI10         F     Si       Si    Ingeniero            +20annos       Bajo   \n",
       "CLI100        M     Si       Si       Medico            +20annos      Medio   \n",
       "CLI1000       M     Si       Si      Artista            +20annos      Medio   \n",
       "CLI10000      M     No       No  Funcionario          10-20annos       Bajo   \n",
       "CLI10001      M     Si       No        Otros            +20annos      Medio   \n",
       "...         ...    ...      ...          ...                 ...        ...   \n",
       "CLI9995       F     Si       No    Servicios            +20annos       Alto   \n",
       "CLI9996       F     No       Si  Funcionario            +20annos       Bajo   \n",
       "CLI9997       M     Si       Si    Ejecutivo            +20annos       Alto   \n",
       "CLI9998       M     Si       Si      Artista          10-20annos       Alto   \n",
       "CLI9999       M     Si       Si        Otros          10-20annos      Medio   \n",
       "\n",
       "            Generacion    Provincia  \n",
       "ID                                   \n",
       "CLI10     Generacion X      Segovia  \n",
       "CLI100    Generacion X     Alicante  \n",
       "CLI1000   Generacion X       Toledo  \n",
       "CLI10000   Millennials         Leon  \n",
       "CLI10001  Generacion X       LLeida  \n",
       "...                ...          ...  \n",
       "CLI9995   Generacion X       Toledo  \n",
       "CLI9996   Generacion X      Cordoba  \n",
       "CLI9997   Generacion X         Lugo  \n",
       "CLI9998    Millennials       Cuenca  \n",
       "CLI9999    Millennials  Guadalajara  \n",
       "\n",
       "[10518 rows x 8 columns]"
      ]
     },
     "execution_count": 14,
     "metadata": {},
     "output_type": "execute_result"
    }
   ],
   "source": [
    "df_pca[v_categoricas]"
   ]
  },
  {
   "cell_type": "code",
   "execution_count": 15,
   "metadata": {},
   "outputs": [
    {
     "name": "stdout",
     "output_type": "stream",
     "text": [
      "Valores únicos de las variables categóricas:\n",
      "- Genero: ['F' 'M']\n",
      "- Casado: ['Si' 'No']\n",
      "- Graduado: ['Si' 'No']\n",
      "- Profesion: ['Ingeniero' 'Medico' 'Artista' 'Funcionario' 'Otros' 'Ejecutivo'\n",
      " 'Construccion' 'Negocios/empresa' 'Servicios']\n",
      "- Experiencia_laboral: ['+20annos' '10-20annos' '<10annos']\n",
      "- Gastoscore: ['Bajo' 'Medio' 'Alto']\n",
      "- Generacion: ['Generacion X' 'Millennials' 'Generacion Silenciosa' 'Generacion Z']\n",
      "- Provincia: ['Segovia' 'Alicante' 'Toledo' 'Leon' 'LLeida' 'Ciudad Real' 'i\\x81vila'\n",
      " 'Guipiºzcoa' 'Vizcaya' 'Orense' 'Castellon' 'Pontevedra' 'Almeri\\xada'\n",
      " 'Valladolid' 'Jaen' 'Lugo' 'Santa Cruz de Tenerife' 'Albacete' 'Huelva'\n",
      " 'Salamanca' 'Ceuta' 'Baleares' 'Gerona' 'Barcelona' 'Sevilla'\n",
      " 'Guadalajara' 'Soria' 'Caceres' 'Madrid' 'Cordoba' 'Burgos' 'Navarra'\n",
      " 'Melilla' 'Granada' 'Badajoz' 'Valencia' 'Tarragona' 'La Corui±a'\n",
      " 'Las Palmas' 'Murcia' 'Palencia' 'La Rioja' 'Teruel' 'Zamora' 'Zaragoza'\n",
      " 'i\\x81lava' 'Cuenca' 'Huesca' 'Cadiz' 'Malaga']\n"
     ]
    }
   ],
   "source": [
    "print('Valores únicos de las variables categóricas:')\n",
    "for col in v_categoricas:\n",
    "    print(f\"- {col}: {df_pca[col].unique()}\")"
   ]
  },
  {
   "cell_type": "markdown",
   "metadata": {},
   "source": [
    "### Agrupación Variables Categoricas"
   ]
  },
  {
   "cell_type": "markdown",
   "metadata": {},
   "source": [
    "Con el objetivo de reducir la dimensionalidad se agruparon las variables\n",
    "\n",
    "- **Profesión**: Se agruparon las profesiones en sectores más amplios (por ejemplo: técnicos, creativos, servicios públicos, construcción, etc.)\n",
    "\n",
    "- **Provincia**: Dado que existen 50 provincias distintas, se agruparon en zonas geográficas o regiones (norte, sur, centro, este, oeste e islas)."
   ]
  },
  {
   "cell_type": "markdown",
   "metadata": {},
   "source": [
    "**Profesión**"
   ]
  },
  {
   "cell_type": "code",
   "execution_count": 16,
   "metadata": {},
   "outputs": [
    {
     "data": {
      "text/plain": [
       "Profesion\n",
       "Artista             3295\n",
       "Funcionario         1713\n",
       "Otros               1227\n",
       "Servicios            974\n",
       "Medico               919\n",
       "Ingeniero            915\n",
       "Ejecutivo            761\n",
       "Negocios/empresa     393\n",
       "Construccion         321\n",
       "Name: count, dtype: int64"
      ]
     },
     "execution_count": 16,
     "metadata": {},
     "output_type": "execute_result"
    }
   ],
   "source": [
    "conteo_profesiones = df_pca['Profesion'].value_counts()\n",
    "conteo_profesiones"
   ]
  },
  {
   "cell_type": "code",
   "execution_count": 17,
   "metadata": {},
   "outputs": [],
   "source": [
    "sectores_profesion = {\n",
    "    'Tecnico/Ing': ['Ingeniero', 'Construccion'],\n",
    "    'Salud': ['Medico'],\n",
    "    'Arte': ['Artista'],\n",
    "    'Adminin/Servicios': ['Funcionario', 'Servicios'],\n",
    "    'Empresa/Finanzas': ['Ejecutivo', 'Negocios/empresa'],\n",
    "    'Otros': ['Otros'],\n",
    "}\n",
    "\n",
    "mapeo_profesion = {profesion: sector for sector, profesiones in sectores_profesion.items() for profesion in profesiones}\n",
    "df_pca['Profesion'] = df_pca['Profesion'].map(mapeo_profesion)"
   ]
  },
  {
   "cell_type": "markdown",
   "metadata": {},
   "source": [
    "**Provincia**"
   ]
  },
  {
   "cell_type": "code",
   "execution_count": 18,
   "metadata": {},
   "outputs": [
    {
     "data": {
      "text/plain": [
       "Provincia\n",
       "Madrid                    320\n",
       "Jaen                      246\n",
       "Gerona                    240\n",
       "Leon                      234\n",
       "Almeri­a                  228\n",
       "La Rioja                  227\n",
       "Alicante                  223\n",
       "Zamora                    223\n",
       "ivila                    221\n",
       "Santa Cruz de Tenerife    221\n",
       "Sevilla                   221\n",
       "Granada                   219\n",
       "Valladolid                219\n",
       "Valencia                  218\n",
       "Las Palmas                218\n",
       "Teruel                    216\n",
       "Vizcaya                   215\n",
       "Cadiz                     215\n",
       "Toledo                    215\n",
       "Palencia                  214\n",
       "Ceuta                     214\n",
       "Guadalajara               211\n",
       "Tarragona                 210\n",
       "Malaga                    209\n",
       "Albacete                  209\n",
       "Segovia                   208\n",
       "Orense                    208\n",
       "Badajoz                   207\n",
       "Guipiºzcoa                207\n",
       "Caceres                   205\n",
       "Navarra                   205\n",
       "Pontevedra                203\n",
       "La Corui±a                203\n",
       "Zaragoza                  200\n",
       "Burgos                    199\n",
       "Huesca                    199\n",
       "Soria                     199\n",
       "ilava                    196\n",
       "Lugo                      196\n",
       "Ciudad Real               196\n",
       "LLeida                    193\n",
       "Murcia                    192\n",
       "Salamanca                 191\n",
       "Baleares                  191\n",
       "Cuenca                    188\n",
       "Huelva                    188\n",
       "Melilla                   188\n",
       "Cordoba                   188\n",
       "Barcelona                 185\n",
       "Castellon                 177\n",
       "Name: count, dtype: int64"
      ]
     },
     "execution_count": 18,
     "metadata": {},
     "output_type": "execute_result"
    }
   ],
   "source": [
    "conteo_provincia = df_pca['Provincia'].value_counts()\n",
    "conteo_provincia"
   ]
  },
  {
   "cell_type": "markdown",
   "metadata": {},
   "source": [
    "En primer lugar corregimos ciertos errores ortográficos que hay en la columna"
   ]
  },
  {
   "cell_type": "code",
   "execution_count": 19,
   "metadata": {},
   "outputs": [],
   "source": [
    "# Correciones\n",
    "correcciones_errores = {\n",
    "    'ivila': 'Ávila',\n",
    "    'Guipiºzcoa': 'Guipúzcoa',\n",
    "    'La Corui±a': 'A Coruña',\n",
    "    'ilava': 'Álava',\n",
    "    'Almeri­a': 'Almería',\n",
    "    'LLeida': 'Lleida',\n",
    "    'Gerona': 'Girona',\n",
    "    'Caceres': 'Cáceres',\n",
    "    'Cordoba': 'Córdoba',\n",
    "    'Baleares': 'Illes Balears',\n",
    "    'Cadiz': 'Cádiz',\n",
    "    'Malaga': 'Málaga',\n",
    "    'Leon': 'León'\n",
    "}\n",
    "\n",
    "df_pca['Provincia'] = df_pca['Provincia'].replace(correcciones_errores)"
   ]
  },
  {
   "cell_type": "markdown",
   "metadata": {},
   "source": [
    "A continuación asociamos a cada provincia su respectiva Comunidad Autónoma"
   ]
  },
  {
   "cell_type": "code",
   "execution_count": 20,
   "metadata": {},
   "outputs": [],
   "source": [
    "comunidades_aut = {\n",
    "    'Álava': 'País Vasco',\n",
    "    'Albacete': 'Castilla La Mancha',\n",
    "    'Alicante': 'Comunidad Valenciana',\n",
    "    'Almería': 'Andalucía',\n",
    "    'Ávila': 'Castilla y León',\n",
    "    'Badajoz': 'Extremadura',\n",
    "    'Barcelona': 'Cataluña',\n",
    "    'Burgos': 'Castilla y León',\n",
    "    'Cáceres': 'Extremadura',\n",
    "    'Cádiz': 'Andalucía',\n",
    "    'Cantabria': 'Cantabria',\n",
    "    'Castellon': 'Comunidad Valenciana',\n",
    "    'Ciudad Real': 'Castilla La Mancha',\n",
    "    'Córdoba': 'Andalucía',\n",
    "    'A Coruña': 'Galicia',\n",
    "    'Cuenca': 'Castilla La Mancha',\n",
    "    'Girona': 'Cataluña',\n",
    "    'Granada': 'Andalucía',\n",
    "    'Guadalajara': 'Castilla La Mancha',\n",
    "    'Guipúzcoa': 'País Vasco',\n",
    "    'Huelva': 'Andalucía',\n",
    "    'Huesca': 'Aragón',\n",
    "    'Illes Balears': 'Islas Baleares',\n",
    "    'Jaen': 'Andalucía',\n",
    "    'La Rioja': 'La Rioja',\n",
    "    'Las Palmas': 'Canarias',\n",
    "    'León': 'Castilla y León',\n",
    "    'Lleida': 'Cataluña',\n",
    "    'Lugo': 'Galicia',\n",
    "    'Madrid': 'Comunidad de Madrid',\n",
    "    'Málaga': 'Andalucía',\n",
    "    'Murcia': 'Región de Murcia',\n",
    "    'Navarra': 'Navarra',\n",
    "    'Orense': 'Galicia', \n",
    "    'Palencia': 'Castilla y León',\n",
    "    'Pontevedra': 'Galicia',\n",
    "    'Salamanca': 'Castilla y León',\n",
    "    'Santa Cruz de Tenerife': 'Canarias',\n",
    "    'Segovia': 'Castilla y León',\n",
    "    'Sevilla': 'Andalucía',\n",
    "    'Soria': 'Castilla y León',\n",
    "    'Tarragona': 'Cataluña',\n",
    "    'Teruel': 'Aragón',\n",
    "    'Toledo': 'Castilla La Mancha',\n",
    "    'Valencia': 'Comunidad Valenciana',\n",
    "    'Valladolid': 'Castilla y León',\n",
    "    'Vizcaya': 'País Vasco',\n",
    "    'Zamora': 'Castilla y León',\n",
    "    'Zaragoza': 'Aragón',\n",
    "    'Ceuta': 'Ceuta',\n",
    "    'Melilla': 'Melilla'\n",
    "}\n",
    "df_pca['Comunidad'] = df_pca['Provincia'].map(comunidades_aut)"
   ]
  },
  {
   "cell_type": "markdown",
   "metadata": {},
   "source": [
    "Finalmente, asociamos a cada C.A una zona relaccionada con su orientación geográfica"
   ]
  },
  {
   "cell_type": "code",
   "execution_count": 21,
   "metadata": {},
   "outputs": [],
   "source": [
    "zonas = {\n",
    "    # Zona Norte\n",
    "    'La Rioja': 'Norte',\n",
    "    'Navarra': 'Norte',\n",
    "    'Aragón': 'Norte',\n",
    "    'Cantabria': 'Norte',\n",
    "    'País Vasco': 'Norte',\n",
    "    'Castilla y León': 'Norte',\n",
    "    'Galicia': 'Norte',\n",
    "    'Asturias': 'Norte',\n",
    "\n",
    "    # Zona Centro\n",
    "    'Comunidad de Madrid': 'Centro',\n",
    "    'Castilla La Mancha': 'Centro',\n",
    "\n",
    "    # Zona Este\n",
    "    'Cataluña': 'Este',\n",
    "    'Comunidad Valenciana': 'Este',\n",
    "    'Región de Murcia': 'Este',\n",
    "\n",
    "    # Zona Sur\n",
    "    'Andalucía': 'Sur',\n",
    "    'Extremadura': 'Sur',\n",
    "\n",
    "    # Zona Islas y Ciudades Autónomas\n",
    "    'Canarias': 'Islas',\n",
    "    'Islas Baleares': 'Islas',\n",
    "    'Ceuta': 'Islas',\n",
    "    'Melilla': 'Islas'\n",
    "}\n",
    "df_pca['Zona'] = df_pca['Comunidad'].map(zonas) "
   ]
  },
  {
   "cell_type": "markdown",
   "metadata": {},
   "source": [
    "*Comprobaciones y Eliminación Columnas sobrantes*"
   ]
  },
  {
   "cell_type": "code",
   "execution_count": 22,
   "metadata": {},
   "outputs": [
    {
     "name": "stdout",
     "output_type": "stream",
     "text": [
      "0\n",
      "0\n",
      "0\n"
     ]
    }
   ],
   "source": [
    "print(df_pca['Provincia'].isnull().sum())\n",
    "print(df_pca['Zona'].isnull().sum())\n",
    "print(df_pca['Comunidad'].isnull().sum())"
   ]
  },
  {
   "cell_type": "code",
   "execution_count": 23,
   "metadata": {},
   "outputs": [],
   "source": [
    "# Eliminamos las columnsa porque nos quedamos definitivamente con Zona\n",
    "df_pca.drop(columns=['Provincia', 'Comunidad'], inplace=True)"
   ]
  },
  {
   "cell_type": "markdown",
   "metadata": {},
   "source": [
    "#### Label Encoding"
   ]
  },
  {
   "cell_type": "markdown",
   "metadata": {},
   "source": [
    "Se aplicó LabelEncoder  `Genero`, `Casado` y `Graduado`. Esta técnica asigna valores numéricos (0 y 1) de manera automática y ordenada"
   ]
  },
  {
   "cell_type": "code",
   "execution_count": 24,
   "metadata": {},
   "outputs": [],
   "source": [
    "label_cols = ['Genero', 'Casado', 'Graduado']\n",
    "le = LabelEncoder()\n",
    "for col in label_cols:\n",
    "    df_pca[col] = le.fit_transform(df_pca[col])"
   ]
  },
  {
   "cell_type": "code",
   "execution_count": 25,
   "metadata": {},
   "outputs": [
    {
     "data": {
      "text/html": [
       "<div>\n",
       "<style scoped>\n",
       "    .dataframe tbody tr th:only-of-type {\n",
       "        vertical-align: middle;\n",
       "    }\n",
       "\n",
       "    .dataframe tbody tr th {\n",
       "        vertical-align: top;\n",
       "    }\n",
       "\n",
       "    .dataframe thead th {\n",
       "        text-align: right;\n",
       "    }\n",
       "</style>\n",
       "<table border=\"1\" class=\"dataframe\">\n",
       "  <thead>\n",
       "    <tr style=\"text-align: right;\">\n",
       "      <th></th>\n",
       "      <th>Genero</th>\n",
       "      <th>Casado</th>\n",
       "      <th>Graduado</th>\n",
       "    </tr>\n",
       "    <tr>\n",
       "      <th>ID</th>\n",
       "      <th></th>\n",
       "      <th></th>\n",
       "      <th></th>\n",
       "    </tr>\n",
       "  </thead>\n",
       "  <tbody>\n",
       "    <tr>\n",
       "      <th>CLI10</th>\n",
       "      <td>0</td>\n",
       "      <td>1</td>\n",
       "      <td>1</td>\n",
       "    </tr>\n",
       "    <tr>\n",
       "      <th>CLI100</th>\n",
       "      <td>1</td>\n",
       "      <td>1</td>\n",
       "      <td>1</td>\n",
       "    </tr>\n",
       "    <tr>\n",
       "      <th>CLI1000</th>\n",
       "      <td>1</td>\n",
       "      <td>1</td>\n",
       "      <td>1</td>\n",
       "    </tr>\n",
       "  </tbody>\n",
       "</table>\n",
       "</div>"
      ],
      "text/plain": [
       "         Genero  Casado  Graduado\n",
       "ID                               \n",
       "CLI10         0       1         1\n",
       "CLI100        1       1         1\n",
       "CLI1000       1       1         1"
      ]
     },
     "execution_count": 25,
     "metadata": {},
     "output_type": "execute_result"
    }
   ],
   "source": [
    "df_pca[['Genero','Casado', 'Graduado']].head(3)"
   ]
  },
  {
   "cell_type": "markdown",
   "metadata": {},
   "source": [
    "#### Ordinal Enconding"
   ]
  },
  {
   "cell_type": "code",
   "execution_count": 26,
   "metadata": {},
   "outputs": [],
   "source": [
    "# Orden para aplicar ordinal\n",
    "ordenes = [\n",
    "    ['Bajo', 'Medio', 'Alto'],  # Gastoscore\n",
    "    ['<10annos', '10-20annos', '+20annos'],  # Experiencia_laboral\n",
    "    ['Generacion Silenciosa', 'Generacion X', 'Millennials', 'Generacion Z']  # Generacion\n",
    "]\n",
    "\n",
    "columnas_ordinales = ['Gastoscore', 'Experiencia_laboral', 'Generacion']\n",
    "ordinal_encoder = OrdinalEncoder(categories=ordenes)"
   ]
  },
  {
   "cell_type": "code",
   "execution_count": 27,
   "metadata": {},
   "outputs": [],
   "source": [
    "df_pca[columnas_ordinales] = ordinal_encoder.fit_transform(df_pca[columnas_ordinales])"
   ]
  },
  {
   "cell_type": "code",
   "execution_count": 28,
   "metadata": {},
   "outputs": [
    {
     "data": {
      "text/html": [
       "<div>\n",
       "<style scoped>\n",
       "    .dataframe tbody tr th:only-of-type {\n",
       "        vertical-align: middle;\n",
       "    }\n",
       "\n",
       "    .dataframe tbody tr th {\n",
       "        vertical-align: top;\n",
       "    }\n",
       "\n",
       "    .dataframe thead th {\n",
       "        text-align: right;\n",
       "    }\n",
       "</style>\n",
       "<table border=\"1\" class=\"dataframe\">\n",
       "  <thead>\n",
       "    <tr style=\"text-align: right;\">\n",
       "      <th></th>\n",
       "      <th>Gastoscore</th>\n",
       "      <th>Experiencia_laboral</th>\n",
       "      <th>Generacion</th>\n",
       "    </tr>\n",
       "    <tr>\n",
       "      <th>ID</th>\n",
       "      <th></th>\n",
       "      <th></th>\n",
       "      <th></th>\n",
       "    </tr>\n",
       "  </thead>\n",
       "  <tbody>\n",
       "    <tr>\n",
       "      <th>CLI10</th>\n",
       "      <td>0.0</td>\n",
       "      <td>2.0</td>\n",
       "      <td>1.0</td>\n",
       "    </tr>\n",
       "    <tr>\n",
       "      <th>CLI100</th>\n",
       "      <td>1.0</td>\n",
       "      <td>2.0</td>\n",
       "      <td>1.0</td>\n",
       "    </tr>\n",
       "    <tr>\n",
       "      <th>CLI1000</th>\n",
       "      <td>1.0</td>\n",
       "      <td>2.0</td>\n",
       "      <td>1.0</td>\n",
       "    </tr>\n",
       "  </tbody>\n",
       "</table>\n",
       "</div>"
      ],
      "text/plain": [
       "         Gastoscore  Experiencia_laboral  Generacion\n",
       "ID                                                  \n",
       "CLI10           0.0                  2.0         1.0\n",
       "CLI100          1.0                  2.0         1.0\n",
       "CLI1000         1.0                  2.0         1.0"
      ]
     },
     "execution_count": 28,
     "metadata": {},
     "output_type": "execute_result"
    }
   ],
   "source": [
    "df_pca[columnas_ordinales].head(3)"
   ]
  },
  {
   "cell_type": "code",
   "execution_count": 29,
   "metadata": {},
   "outputs": [
    {
     "name": "stdout",
     "output_type": "stream",
     "text": [
      "Gastoscore :\n",
      "  0: Bajo\n",
      "  1: Medio\n",
      "  2: Alto\n",
      "Experiencia_laboral :\n",
      "  0: <10annos\n",
      "  1: 10-20annos\n",
      "  2: +20annos\n",
      "Generacion :\n",
      "  0: Generacion Silenciosa\n",
      "  1: Generacion X\n",
      "  2: Millennials\n",
      "  3: Generacion Z\n"
     ]
    }
   ],
   "source": [
    "for col, categorias in zip(columnas_ordinales, ordinal_encoder.categories_):\n",
    "    print(f\"{col} :\")\n",
    "    for i, cat in enumerate(categorias):\n",
    "        print(f\"  {i}: {cat}\")"
   ]
  },
  {
   "cell_type": "markdown",
   "metadata": {},
   "source": [
    "#### One hot"
   ]
  },
  {
   "cell_type": "code",
   "execution_count": 30,
   "metadata": {},
   "outputs": [],
   "source": [
    "onehot_vars = ['Profesion', 'Zona']\n",
    "cols_antes = df_pca.columns.tolist()"
   ]
  },
  {
   "cell_type": "code",
   "execution_count": 31,
   "metadata": {},
   "outputs": [],
   "source": [
    "df_pca = pd.get_dummies(df_pca, columns=onehot_vars, drop_first=False)\n",
    "# Convertir nuevas columnas (todas menos las originales) a enteros\n",
    "df_pca[df_pca.columns.difference(onehot_vars)] = df_pca[df_pca.columns.difference(onehot_vars)].astype(int)\n",
    "cols_despues = df_pca.columns.tolist()"
   ]
  },
  {
   "cell_type": "code",
   "execution_count": 32,
   "metadata": {},
   "outputs": [
    {
     "name": "stdout",
     "output_type": "stream",
     "text": [
      "Se aplicó One-Hot Encoding a: ['Profesion', 'Zona']\n",
      "Columnas nuevas creadas: 11\n",
      "Nombres de columnas nuevas:\n",
      "['Profesion_Adminin/Servicios', 'Profesion_Arte', 'Profesion_Empresa/Finanzas', 'Profesion_Otros', 'Profesion_Salud', 'Profesion_Tecnico/Ing', 'Zona_Centro', 'Zona_Este', 'Zona_Islas', 'Zona_Norte', 'Zona_Sur']\n"
     ]
    }
   ],
   "source": [
    "columnas_nuevas = list(set(cols_despues) - set(cols_antes))\n",
    "print(f\"Se aplicó One-Hot Encoding a: {onehot_vars}\")\n",
    "print(f\"Columnas nuevas creadas: {len(columnas_nuevas)}\")\n",
    "print(\"Nombres de columnas nuevas:\")\n",
    "print(sorted(columnas_nuevas))"
   ]
  },
  {
   "cell_type": "markdown",
   "metadata": {},
   "source": [
    "## Variables Continuas"
   ]
  },
  {
   "cell_type": "code",
   "execution_count": 33,
   "metadata": {},
   "outputs": [
    {
     "data": {
      "text/html": [
       "<div>\n",
       "<style scoped>\n",
       "    .dataframe tbody tr th:only-of-type {\n",
       "        vertical-align: middle;\n",
       "    }\n",
       "\n",
       "    .dataframe tbody tr th {\n",
       "        vertical-align: top;\n",
       "    }\n",
       "\n",
       "    .dataframe thead th {\n",
       "        text-align: right;\n",
       "    }\n",
       "</style>\n",
       "<table border=\"1\" class=\"dataframe\">\n",
       "  <thead>\n",
       "    <tr style=\"text-align: right;\">\n",
       "      <th></th>\n",
       "      <th>Edad</th>\n",
       "      <th>Family_Size</th>\n",
       "      <th>Ingresos_anuales_brutos</th>\n",
       "      <th>Digital_encuesta</th>\n",
       "      <th>Gasto_medio_mensual_cuota</th>\n",
       "      <th>Abandono</th>\n",
       "      <th>Dias_cliente</th>\n",
       "      <th>Campanna_anno</th>\n",
       "    </tr>\n",
       "    <tr>\n",
       "      <th>ID</th>\n",
       "      <th></th>\n",
       "      <th></th>\n",
       "      <th></th>\n",
       "      <th></th>\n",
       "      <th></th>\n",
       "      <th></th>\n",
       "      <th></th>\n",
       "      <th></th>\n",
       "    </tr>\n",
       "  </thead>\n",
       "  <tbody>\n",
       "    <tr>\n",
       "      <th>CLI10</th>\n",
       "      <td>67</td>\n",
       "      <td>3</td>\n",
       "      <td>93442</td>\n",
       "      <td>1385</td>\n",
       "      <td>80</td>\n",
       "      <td>1</td>\n",
       "      <td>195</td>\n",
       "      <td>0</td>\n",
       "    </tr>\n",
       "    <tr>\n",
       "      <th>CLI100</th>\n",
       "      <td>64</td>\n",
       "      <td>2</td>\n",
       "      <td>99774</td>\n",
       "      <td>1052</td>\n",
       "      <td>50</td>\n",
       "      <td>1</td>\n",
       "      <td>360</td>\n",
       "      <td>5</td>\n",
       "    </tr>\n",
       "    <tr>\n",
       "      <th>CLI1000</th>\n",
       "      <td>65</td>\n",
       "      <td>3</td>\n",
       "      <td>36756</td>\n",
       "      <td>1717</td>\n",
       "      <td>30</td>\n",
       "      <td>0</td>\n",
       "      <td>407</td>\n",
       "      <td>3</td>\n",
       "    </tr>\n",
       "    <tr>\n",
       "      <th>CLI10000</th>\n",
       "      <td>33</td>\n",
       "      <td>4</td>\n",
       "      <td>24616</td>\n",
       "      <td>1606</td>\n",
       "      <td>30</td>\n",
       "      <td>0</td>\n",
       "      <td>544</td>\n",
       "      <td>4</td>\n",
       "    </tr>\n",
       "    <tr>\n",
       "      <th>CLI10001</th>\n",
       "      <td>52</td>\n",
       "      <td>2</td>\n",
       "      <td>29834</td>\n",
       "      <td>1346</td>\n",
       "      <td>30</td>\n",
       "      <td>1</td>\n",
       "      <td>170</td>\n",
       "      <td>0</td>\n",
       "    </tr>\n",
       "  </tbody>\n",
       "</table>\n",
       "</div>"
      ],
      "text/plain": [
       "          Edad  Family_Size  Ingresos_anuales_brutos  Digital_encuesta  \\\n",
       "ID                                                                       \n",
       "CLI10       67            3                    93442              1385   \n",
       "CLI100      64            2                    99774              1052   \n",
       "CLI1000     65            3                    36756              1717   \n",
       "CLI10000    33            4                    24616              1606   \n",
       "CLI10001    52            2                    29834              1346   \n",
       "\n",
       "          Gasto_medio_mensual_cuota  Abandono  Dias_cliente  Campanna_anno  \n",
       "ID                                                                          \n",
       "CLI10                            80         1           195              0  \n",
       "CLI100                           50         1           360              5  \n",
       "CLI1000                          30         0           407              3  \n",
       "CLI10000                         30         0           544              4  \n",
       "CLI10001                         30         1           170              0  "
      ]
     },
     "execution_count": 33,
     "metadata": {},
     "output_type": "execute_result"
    }
   ],
   "source": [
    "df_pca[v_continuas].head()"
   ]
  },
  {
   "cell_type": "markdown",
   "metadata": {},
   "source": [
    "**Campaña Año**"
   ]
  },
  {
   "cell_type": "markdown",
   "metadata": {},
   "source": [
    "La variable `Campanna_anno` representa **el tipo de campaña** aplicada a cada cliente, no la cantidad. Dado que se trata de una variable categórica se aplicó **One-Hot Encoding** para convertir cada tipo en una columna binaria independiente.\n",
    "\n"
   ]
  },
  {
   "cell_type": "code",
   "execution_count": 34,
   "metadata": {},
   "outputs": [
    {
     "name": "stdout",
     "output_type": "stream",
     "text": [
      "Se aplicó One-Hot Encoding a: ['Campanna_anno']\n",
      "Columnas nuevas creadas: 5\n",
      " Nombres de columnas nuevas:\n",
      "['Campanna_0', 'Campanna_1', 'Campanna_3', 'Campanna_4', 'Campanna_5']\n"
     ]
    }
   ],
   "source": [
    "cols_antes = df_pca.columns.tolist()\n",
    "df_pca = pd.get_dummies(df_pca, columns=['Campanna_anno'], prefix='Campanna', drop_first=False)\n",
    "campanna_cols = [col for col in df_pca.columns if col.startswith('Campanna_')]\n",
    "df_pca[campanna_cols] = df_pca[campanna_cols].astype(int)\n",
    "\n",
    "# Comparar columnas antes y después\n",
    "cols_despues = df_pca.columns.tolist()\n",
    "nuevas_columnas = list(set(cols_despues) - set(cols_antes))\n",
    "\n",
    "# Nuevas columnas\n",
    "print(\"Se aplicó One-Hot Encoding a: ['Campanna_anno']\")\n",
    "print(f\"Columnas nuevas creadas: {len(nuevas_columnas)}\")\n",
    "print(\" Nombres de columnas nuevas:\")\n",
    "print(sorted(nuevas_columnas))"
   ]
  },
  {
   "cell_type": "markdown",
   "metadata": {},
   "source": [
    "## Estandarización"
   ]
  },
  {
   "cell_type": "code",
   "execution_count": 35,
   "metadata": {},
   "outputs": [
    {
     "data": {
      "text/html": [
       "<div>\n",
       "<style scoped>\n",
       "    .dataframe tbody tr th:only-of-type {\n",
       "        vertical-align: middle;\n",
       "    }\n",
       "\n",
       "    .dataframe tbody tr th {\n",
       "        vertical-align: top;\n",
       "    }\n",
       "\n",
       "    .dataframe thead th {\n",
       "        text-align: right;\n",
       "    }\n",
       "</style>\n",
       "<table border=\"1\" class=\"dataframe\">\n",
       "  <thead>\n",
       "    <tr style=\"text-align: right;\">\n",
       "      <th></th>\n",
       "      <th>Genero</th>\n",
       "      <th>Casado</th>\n",
       "      <th>Edad</th>\n",
       "      <th>Graduado</th>\n",
       "      <th>Experiencia_laboral</th>\n",
       "      <th>Gastoscore</th>\n",
       "      <th>Family_Size</th>\n",
       "      <th>Generacion</th>\n",
       "      <th>Ingresos_anuales_brutos</th>\n",
       "      <th>Digital_encuesta</th>\n",
       "      <th>...</th>\n",
       "      <th>Zona_Centro</th>\n",
       "      <th>Zona_Este</th>\n",
       "      <th>Zona_Islas</th>\n",
       "      <th>Zona_Norte</th>\n",
       "      <th>Zona_Sur</th>\n",
       "      <th>Campanna_0</th>\n",
       "      <th>Campanna_1</th>\n",
       "      <th>Campanna_3</th>\n",
       "      <th>Campanna_4</th>\n",
       "      <th>Campanna_5</th>\n",
       "    </tr>\n",
       "    <tr>\n",
       "      <th>ID</th>\n",
       "      <th></th>\n",
       "      <th></th>\n",
       "      <th></th>\n",
       "      <th></th>\n",
       "      <th></th>\n",
       "      <th></th>\n",
       "      <th></th>\n",
       "      <th></th>\n",
       "      <th></th>\n",
       "      <th></th>\n",
       "      <th></th>\n",
       "      <th></th>\n",
       "      <th></th>\n",
       "      <th></th>\n",
       "      <th></th>\n",
       "      <th></th>\n",
       "      <th></th>\n",
       "      <th></th>\n",
       "      <th></th>\n",
       "      <th></th>\n",
       "      <th></th>\n",
       "    </tr>\n",
       "  </thead>\n",
       "  <tbody>\n",
       "    <tr>\n",
       "      <th>CLI10</th>\n",
       "      <td>0</td>\n",
       "      <td>1</td>\n",
       "      <td>67</td>\n",
       "      <td>1</td>\n",
       "      <td>2</td>\n",
       "      <td>0</td>\n",
       "      <td>3</td>\n",
       "      <td>1</td>\n",
       "      <td>93442</td>\n",
       "      <td>1385</td>\n",
       "      <td>...</td>\n",
       "      <td>0</td>\n",
       "      <td>0</td>\n",
       "      <td>0</td>\n",
       "      <td>1</td>\n",
       "      <td>0</td>\n",
       "      <td>1</td>\n",
       "      <td>0</td>\n",
       "      <td>0</td>\n",
       "      <td>0</td>\n",
       "      <td>0</td>\n",
       "    </tr>\n",
       "    <tr>\n",
       "      <th>CLI100</th>\n",
       "      <td>1</td>\n",
       "      <td>1</td>\n",
       "      <td>64</td>\n",
       "      <td>1</td>\n",
       "      <td>2</td>\n",
       "      <td>1</td>\n",
       "      <td>2</td>\n",
       "      <td>1</td>\n",
       "      <td>99774</td>\n",
       "      <td>1052</td>\n",
       "      <td>...</td>\n",
       "      <td>0</td>\n",
       "      <td>1</td>\n",
       "      <td>0</td>\n",
       "      <td>0</td>\n",
       "      <td>0</td>\n",
       "      <td>0</td>\n",
       "      <td>0</td>\n",
       "      <td>0</td>\n",
       "      <td>0</td>\n",
       "      <td>1</td>\n",
       "    </tr>\n",
       "    <tr>\n",
       "      <th>CLI1000</th>\n",
       "      <td>1</td>\n",
       "      <td>1</td>\n",
       "      <td>65</td>\n",
       "      <td>1</td>\n",
       "      <td>2</td>\n",
       "      <td>1</td>\n",
       "      <td>3</td>\n",
       "      <td>1</td>\n",
       "      <td>36756</td>\n",
       "      <td>1717</td>\n",
       "      <td>...</td>\n",
       "      <td>1</td>\n",
       "      <td>0</td>\n",
       "      <td>0</td>\n",
       "      <td>0</td>\n",
       "      <td>0</td>\n",
       "      <td>0</td>\n",
       "      <td>0</td>\n",
       "      <td>1</td>\n",
       "      <td>0</td>\n",
       "      <td>0</td>\n",
       "    </tr>\n",
       "    <tr>\n",
       "      <th>CLI10000</th>\n",
       "      <td>1</td>\n",
       "      <td>0</td>\n",
       "      <td>33</td>\n",
       "      <td>0</td>\n",
       "      <td>1</td>\n",
       "      <td>0</td>\n",
       "      <td>4</td>\n",
       "      <td>2</td>\n",
       "      <td>24616</td>\n",
       "      <td>1606</td>\n",
       "      <td>...</td>\n",
       "      <td>0</td>\n",
       "      <td>0</td>\n",
       "      <td>0</td>\n",
       "      <td>1</td>\n",
       "      <td>0</td>\n",
       "      <td>0</td>\n",
       "      <td>0</td>\n",
       "      <td>0</td>\n",
       "      <td>1</td>\n",
       "      <td>0</td>\n",
       "    </tr>\n",
       "    <tr>\n",
       "      <th>CLI10001</th>\n",
       "      <td>1</td>\n",
       "      <td>1</td>\n",
       "      <td>52</td>\n",
       "      <td>0</td>\n",
       "      <td>2</td>\n",
       "      <td>1</td>\n",
       "      <td>2</td>\n",
       "      <td>1</td>\n",
       "      <td>29834</td>\n",
       "      <td>1346</td>\n",
       "      <td>...</td>\n",
       "      <td>0</td>\n",
       "      <td>1</td>\n",
       "      <td>0</td>\n",
       "      <td>0</td>\n",
       "      <td>0</td>\n",
       "      <td>1</td>\n",
       "      <td>0</td>\n",
       "      <td>0</td>\n",
       "      <td>0</td>\n",
       "      <td>0</td>\n",
       "    </tr>\n",
       "  </tbody>\n",
       "</table>\n",
       "<p>5 rows × 29 columns</p>\n",
       "</div>"
      ],
      "text/plain": [
       "          Genero  Casado  Edad  Graduado  Experiencia_laboral  Gastoscore  \\\n",
       "ID                                                                          \n",
       "CLI10          0       1    67         1                    2           0   \n",
       "CLI100         1       1    64         1                    2           1   \n",
       "CLI1000        1       1    65         1                    2           1   \n",
       "CLI10000       1       0    33         0                    1           0   \n",
       "CLI10001       1       1    52         0                    2           1   \n",
       "\n",
       "          Family_Size  Generacion  Ingresos_anuales_brutos  Digital_encuesta  \\\n",
       "ID                                                                             \n",
       "CLI10               3           1                    93442              1385   \n",
       "CLI100              2           1                    99774              1052   \n",
       "CLI1000             3           1                    36756              1717   \n",
       "CLI10000            4           2                    24616              1606   \n",
       "CLI10001            2           1                    29834              1346   \n",
       "\n",
       "          ...  Zona_Centro  Zona_Este  Zona_Islas  Zona_Norte  Zona_Sur  \\\n",
       "ID        ...                                                             \n",
       "CLI10     ...            0          0           0           1         0   \n",
       "CLI100    ...            0          1           0           0         0   \n",
       "CLI1000   ...            1          0           0           0         0   \n",
       "CLI10000  ...            0          0           0           1         0   \n",
       "CLI10001  ...            0          1           0           0         0   \n",
       "\n",
       "          Campanna_0  Campanna_1  Campanna_3  Campanna_4  Campanna_5  \n",
       "ID                                                                    \n",
       "CLI10              1           0           0           0           0  \n",
       "CLI100             0           0           0           0           1  \n",
       "CLI1000            0           0           1           0           0  \n",
       "CLI10000           0           0           0           1           0  \n",
       "CLI10001           1           0           0           0           0  \n",
       "\n",
       "[5 rows x 29 columns]"
      ]
     },
     "execution_count": 35,
     "metadata": {},
     "output_type": "execute_result"
    }
   ],
   "source": [
    "df_pca.head()"
   ]
  },
  {
   "cell_type": "code",
   "execution_count": 36,
   "metadata": {},
   "outputs": [
    {
     "data": {
      "text/plain": [
       "Genero                         int64\n",
       "Casado                         int64\n",
       "Edad                           int64\n",
       "Graduado                       int64\n",
       "Experiencia_laboral            int64\n",
       "Gastoscore                     int64\n",
       "Family_Size                    int64\n",
       "Generacion                     int64\n",
       "Ingresos_anuales_brutos        int64\n",
       "Digital_encuesta               int64\n",
       "Gasto_medio_mensual_cuota      int64\n",
       "Abandono                       int64\n",
       "Dias_cliente                   int64\n",
       "Profesion_Adminin/Servicios    int64\n",
       "Profesion_Arte                 int64\n",
       "Profesion_Empresa/Finanzas     int64\n",
       "Profesion_Otros                int64\n",
       "Profesion_Salud                int64\n",
       "Profesion_Tecnico/Ing          int64\n",
       "Zona_Centro                    int64\n",
       "Zona_Este                      int64\n",
       "Zona_Islas                     int64\n",
       "Zona_Norte                     int64\n",
       "Zona_Sur                       int64\n",
       "Campanna_0                     int64\n",
       "Campanna_1                     int64\n",
       "Campanna_3                     int64\n",
       "Campanna_4                     int64\n",
       "Campanna_5                     int64\n",
       "dtype: object"
      ]
     },
     "execution_count": 36,
     "metadata": {},
     "output_type": "execute_result"
    }
   ],
   "source": [
    "df_pca.dtypes"
   ]
  },
  {
   "cell_type": "code",
   "execution_count": 37,
   "metadata": {},
   "outputs": [
    {
     "data": {
      "text/plain": [
       "(10518, 29)"
      ]
     },
     "execution_count": 37,
     "metadata": {},
     "output_type": "execute_result"
    }
   ],
   "source": [
    "# comprobamos que no hayamos perdido ningun registr\n",
    "df_pca.shape"
   ]
  },
  {
   "cell_type": "code",
   "execution_count": 38,
   "metadata": {},
   "outputs": [
    {
     "name": "stdout",
     "output_type": "stream",
     "text": [
      "Variables binarias: ['Genero', 'Casado', 'Graduado', 'Abandono', 'Profesion_Adminin/Servicios', 'Profesion_Arte', 'Profesion_Empresa/Finanzas', 'Profesion_Otros', 'Profesion_Salud', 'Profesion_Tecnico/Ing', 'Zona_Centro', 'Zona_Este', 'Zona_Islas', 'Zona_Norte', 'Zona_Sur', 'Campanna_0', 'Campanna_1', 'Campanna_3', 'Campanna_4', 'Campanna_5']\n",
      "Variables continuas a estandarizar: ['Edad', 'Experiencia_laboral', 'Gastoscore', 'Family_Size', 'Generacion', 'Ingresos_anuales_brutos', 'Digital_encuesta', 'Gasto_medio_mensual_cuota', 'Dias_cliente']\n"
     ]
    }
   ],
   "source": [
    "# Selección de columnas numéricas.\n",
    "numerical_cols = df_pca.select_dtypes(include=['int64', 'float64']).columns.tolist()\n",
    "\n",
    "# Identificación de variables binarias, categóricas ordinales y continuas.\n",
    "binary_cols = []\n",
    "continuous_cols = [] # Variables continuas y categóricas ordinales a estandarizar.\n",
    "\n",
    "for col in numerical_cols:\n",
    "    unique_vals = df_pca[col].dropna().unique()\n",
    "    n_unique = len(unique_vals)\n",
    "    \n",
    "    if sorted(unique_vals) == [0, 1]:\n",
    "        binary_cols.append(col)\n",
    "    else:\n",
    "        continuous_cols.append(col)\n",
    "\n",
    "print(\"Variables binarias:\", binary_cols)\n",
    "print(\"Variables continuas a estandarizar:\", continuous_cols)"
   ]
  },
  {
   "cell_type": "code",
   "execution_count": 39,
   "metadata": {},
   "outputs": [
    {
     "data": {
      "text/plain": [
       "Edad                           69\n",
       "Experiencia_laboral             3\n",
       "Gastoscore                      3\n",
       "Family_Size                     9\n",
       "Generacion                      4\n",
       "Ingresos_anuales_brutos      9667\n",
       "Digital_encuesta              185\n",
       "Gasto_medio_mensual_cuota       5\n",
       "Dias_cliente                  571\n",
       "dtype: int64"
      ]
     },
     "execution_count": 39,
     "metadata": {},
     "output_type": "execute_result"
    }
   ],
   "source": [
    "df_pca[continuous_cols].nunique()"
   ]
  },
  {
   "cell_type": "code",
   "execution_count": 40,
   "metadata": {},
   "outputs": [
    {
     "name": "stdout",
     "output_type": "stream",
     "text": [
      "[ 80  50  30 120 200]\n"
     ]
    }
   ],
   "source": [
    "valores_unicos = df_pca['Gasto_medio_mensual_cuota'].unique()\n",
    "print(valores_unicos)"
   ]
  },
  {
   "cell_type": "code",
   "execution_count": 41,
   "metadata": {},
   "outputs": [
    {
     "name": "stdout",
     "output_type": "stream",
     "text": [
      "Gasto_medio_mensual_cuota\n",
      "30     6399\n",
      "50     2733\n",
      "80      783\n",
      "120     460\n",
      "200     143\n",
      "Name: count, dtype: int64\n"
     ]
    }
   ],
   "source": [
    "conteo_cuotas = df_pca['Gasto_medio_mensual_cuota'].value_counts().sort_index()\n",
    "print(conteo_cuotas)"
   ]
  },
  {
   "cell_type": "code",
   "execution_count": 42,
   "metadata": {},
   "outputs": [
    {
     "data": {
      "image/png": "[encoded data removed]",
      "text/plain": [
       "<Figure size 1800x1200 with 9 Axes>"
      ]
     },
     "metadata": {},
     "output_type": "display_data"
    }
   ],
   "source": [
    "# Asegurarse de que todas las columnas sean numéricas\n",
    "for col in continuous_cols:\n",
    "    df_pca[col] = pd.to_numeric(df_pca[col], errors='coerce')\n",
    "\n",
    "# Crear boxplots nuevamente\n",
    "fig, axs = plt.subplots(nrows=3, ncols=3, figsize=(18, 12))\n",
    "axs = axs.flatten()\n",
    "\n",
    "for i, col in enumerate(continuous_cols):\n",
    "    sns.boxplot(y=df_pca[col], ax=axs[i])\n",
    "    axs[i].set_title(f'Distribución de {col}')\n",
    "    axs[i].set_ylabel(col)\n",
    "\n",
    "plt.tight_layout()\n",
    "plt.show()"
   ]
  },
  {
   "cell_type": "code",
   "execution_count": 43,
   "metadata": {},
   "outputs": [
    {
     "name": "stdout",
     "output_type": "stream",
     "text": [
      "Antes: (10518, 29)\n",
      "Después de eliminar outliers: (10065, 29)\n"
     ]
    }
   ],
   "source": [
    "from sklearn.preprocessing import StandardScaler\n",
    "import pandas as pd\n",
    "\n",
    "# Lista de variables continuas\n",
    "continuous_cols = [\n",
    "    'Edad', 'Experiencia_laboral', 'Gastoscore', 'Family_Size', 'Generacion',\n",
    "    'Ingresos_anuales_brutos', 'Digital_encuesta',\n",
    "    'Gasto_medio_mensual_cuota', 'Dias_cliente'\n",
    "]\n",
    "\n",
    "# Asegúrate de que estas columnas estén en tipo numérico\n",
    "for col in continuous_cols:\n",
    "    df_pca[col] = pd.to_numeric(df_pca[col], errors='coerce')\n",
    "\n",
    "# Función para eliminar outliers por IQR\n",
    "def eliminar_outliers_iqr(df, columnas):\n",
    "    df_filtrado = df.copy()\n",
    "    for col in columnas:\n",
    "        Q1 = df_filtrado[col].quantile(0.1)\n",
    "        Q3 = df_filtrado[col].quantile(0.9)\n",
    "        IQR = Q3 - Q1\n",
    "        limite_inferior = Q1 - 1.5 * IQR\n",
    "        limite_superior = Q3 + 1.5 * IQR\n",
    "        df_filtrado = df_filtrado[\n",
    "            (df_filtrado[col] >= limite_inferior) & (df_filtrado[col] <= limite_superior)\n",
    "        ]\n",
    "    return df_filtrado\n",
    "\n",
    "# Aplicar la función\n",
    "df_sin_outliers = eliminar_outliers_iqr(df_pca, continuous_cols)\n",
    "\n",
    "# Resultado: comparación de dimensiones\n",
    "print(f\"Antes: {df_pca.shape}\")\n",
    "print(f\"Después de eliminar outliers: {df_sin_outliers.shape}\")"
   ]
  },
  {
   "cell_type": "code",
   "execution_count": 44,
   "metadata": {},
   "outputs": [
    {
     "name": "stdout",
     "output_type": "stream",
     "text": [
      "Varianza explicada por PC1: 43.36%\n",
      "Varianza explicada por PC2: 12.77%\n",
      "Varianza total acumulada: 56.13%\n"
     ]
    },
    {
     "data": {
      "image/png": "[encoded data removed]",
      "text/plain": [
       "<Figure size 800x600 with 1 Axes>"
      ]
     },
     "metadata": {},
     "output_type": "display_data"
    }
   ],
   "source": [
    "from sklearn.preprocessing import StandardScaler\n",
    "from sklearn.decomposition import PCA\n",
    "import matplotlib.pyplot as plt\n",
    "import pandas as pd\n",
    "\n",
    "# Aseguramos que las columnas sean numéricas\n",
    "for col in continuous_cols:\n",
    "    df_sin_outliers[col] = pd.to_numeric(df_sin_outliers[col], errors='coerce')\n",
    "\n",
    "# Estandarización\n",
    "scaler = StandardScaler()\n",
    "X_scaled = scaler.fit_transform(df_sin_outliers[continuous_cols])\n",
    "\n",
    "# PCA con 2 componentes\n",
    "pca = PCA(n_components=2)\n",
    "X_pca = pca.fit_transform(X_scaled)\n",
    "\n",
    "# Crear DataFrame con los resultados del PCA\n",
    "df_pca_result = pd.DataFrame(X_pca, columns=['PC1', 'PC2'], index=df_sin_outliers.index)\n",
    "\n",
    "# Variancia explicada\n",
    "explained_var = pca.explained_variance_ratio_ * 100\n",
    "print(f\"Varianza explicada por PC1: {explained_var[0]:.2f}%\")\n",
    "print(f\"Varianza explicada por PC2: {explained_var[1]:.2f}%\")\n",
    "print(f\"Varianza total acumulada: {explained_var.sum():.2f}%\")\n",
    "\n",
    "# Gráfico\n",
    "plt.figure(figsize=(8, 6))\n",
    "plt.scatter(df_pca_result['PC1'], df_pca_result['PC2'], alpha=0.5)\n",
    "plt.xlabel(f'PC1 ({explained_var[0]:.2f}%)')\n",
    "plt.ylabel(f'PC2 ({explained_var[1]:.2f}%)')\n",
    "plt.title('PCA con 2 Componentes (sin outliers)')\n",
    "plt.grid(True)\n",
    "plt.tight_layout()\n",
    "plt.show()"
   ]
  }
 ],
 "metadata": {
  "kernelspec": {
   "display_name": "Python 3",
   "language": "python",
   "name": "python3"
  },
  "language_info": {
   "codemirror_mode": {
    "name": "ipython",
    "version": 3
   },
   "file_extension": ".py",
   "mimetype": "text/x-python",
   "name": "python",
   "nbconvert_exporter": "python",
   "pygments_lexer": "ipython3",
   "version": "3.12.6"
  }
 },
 "nbformat": 4,
 "nbformat_minor": 2
}
