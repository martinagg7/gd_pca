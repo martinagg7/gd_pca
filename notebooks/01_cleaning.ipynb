{
 "cells": [
  {
   "cell_type": "code",
   "execution_count": 1,
   "metadata": {},
   "outputs": [],
   "source": [
    "#liberias\n",
    "import pandas as pd\n",
    "import numpy as np\n",
    "from sklearn.preprocessing import LabelEncoder\n",
    "from sklearn.preprocessing import OneHotEncoder\n",
    "from sklearn.preprocessing import StandardScaler"
   ]
  },
  {
   "cell_type": "markdown",
   "metadata": {},
   "source": [
    "# Carga y Exploración Datos"
   ]
  },
  {
   "cell_type": "code",
   "execution_count": 2,
   "metadata": {},
   "outputs": [
    {
     "data": {
      "text/html": [
       "<div>\n",
       "<style scoped>\n",
       "    .dataframe tbody tr th:only-of-type {\n",
       "        vertical-align: middle;\n",
       "    }\n",
       "\n",
       "    .dataframe tbody tr th {\n",
       "        vertical-align: top;\n",
       "    }\n",
       "\n",
       "    .dataframe thead th {\n",
       "        text-align: right;\n",
       "    }\n",
       "</style>\n",
       "<table border=\"1\" class=\"dataframe\">\n",
       "  <thead>\n",
       "    <tr style=\"text-align: right;\">\n",
       "      <th></th>\n",
       "      <th>ID</th>\n",
       "      <th>Genero</th>\n",
       "      <th>Casado</th>\n",
       "      <th>Edad</th>\n",
       "      <th>Graduado</th>\n",
       "      <th>Profesion</th>\n",
       "      <th>Experiencia_laboral</th>\n",
       "      <th>Gastoscore</th>\n",
       "      <th>Family_Size</th>\n",
       "      <th>anno_nacimiento</th>\n",
       "      <th>Generacion</th>\n",
       "      <th>Ingresos_anuales_brutos</th>\n",
       "      <th>Provincia</th>\n",
       "      <th>Digital_encuesta</th>\n",
       "      <th>Gasto_medio_mensual_cuota</th>\n",
       "      <th>Abandono</th>\n",
       "      <th>Dias_cliente</th>\n",
       "      <th>Campanna_anno</th>\n",
       "    </tr>\n",
       "  </thead>\n",
       "  <tbody>\n",
       "    <tr>\n",
       "      <th>0</th>\n",
       "      <td>CLI10</td>\n",
       "      <td>F</td>\n",
       "      <td>Si</td>\n",
       "      <td>67</td>\n",
       "      <td>Si</td>\n",
       "      <td>Ingeniero</td>\n",
       "      <td>+20annos</td>\n",
       "      <td>Bajo</td>\n",
       "      <td>3</td>\n",
       "      <td>1957</td>\n",
       "      <td>Generacion X</td>\n",
       "      <td>93442</td>\n",
       "      <td>Segovia</td>\n",
       "      <td>1385</td>\n",
       "      <td>80</td>\n",
       "      <td>1</td>\n",
       "      <td>195</td>\n",
       "      <td>NaN</td>\n",
       "    </tr>\n",
       "    <tr>\n",
       "      <th>1</th>\n",
       "      <td>CLI100</td>\n",
       "      <td>M</td>\n",
       "      <td>Si</td>\n",
       "      <td>64</td>\n",
       "      <td>Si</td>\n",
       "      <td>Medico</td>\n",
       "      <td>+20annos</td>\n",
       "      <td>Medio</td>\n",
       "      <td>2</td>\n",
       "      <td>1960</td>\n",
       "      <td>Generacion X</td>\n",
       "      <td>99774</td>\n",
       "      <td>Alicante</td>\n",
       "      <td>1052</td>\n",
       "      <td>50</td>\n",
       "      <td>1</td>\n",
       "      <td>360</td>\n",
       "      <td>5.0</td>\n",
       "    </tr>\n",
       "    <tr>\n",
       "      <th>2</th>\n",
       "      <td>CLI1000</td>\n",
       "      <td>M</td>\n",
       "      <td>Si</td>\n",
       "      <td>65</td>\n",
       "      <td>Si</td>\n",
       "      <td>Artista</td>\n",
       "      <td>+20annos</td>\n",
       "      <td>Medio</td>\n",
       "      <td>3</td>\n",
       "      <td>1959</td>\n",
       "      <td>Generacion X</td>\n",
       "      <td>36756</td>\n",
       "      <td>Toledo</td>\n",
       "      <td>1717</td>\n",
       "      <td>30</td>\n",
       "      <td>0</td>\n",
       "      <td>407</td>\n",
       "      <td>3.0</td>\n",
       "    </tr>\n",
       "    <tr>\n",
       "      <th>3</th>\n",
       "      <td>CLI10000</td>\n",
       "      <td>M</td>\n",
       "      <td>No</td>\n",
       "      <td>33</td>\n",
       "      <td>No</td>\n",
       "      <td>Funcionario</td>\n",
       "      <td>10-20annos</td>\n",
       "      <td>Bajo</td>\n",
       "      <td>4</td>\n",
       "      <td>1991</td>\n",
       "      <td>Millennials</td>\n",
       "      <td>24616</td>\n",
       "      <td>Leon</td>\n",
       "      <td>1606</td>\n",
       "      <td>30</td>\n",
       "      <td>0</td>\n",
       "      <td>544</td>\n",
       "      <td>4.0</td>\n",
       "    </tr>\n",
       "    <tr>\n",
       "      <th>4</th>\n",
       "      <td>CLI10001</td>\n",
       "      <td>M</td>\n",
       "      <td>Si</td>\n",
       "      <td>52</td>\n",
       "      <td>No</td>\n",
       "      <td>Otros</td>\n",
       "      <td>+20annos</td>\n",
       "      <td>Medio</td>\n",
       "      <td>2</td>\n",
       "      <td>1972</td>\n",
       "      <td>Generacion X</td>\n",
       "      <td>29834</td>\n",
       "      <td>LLeida</td>\n",
       "      <td>1346</td>\n",
       "      <td>30</td>\n",
       "      <td>1</td>\n",
       "      <td>170</td>\n",
       "      <td>NaN</td>\n",
       "    </tr>\n",
       "    <tr>\n",
       "      <th>...</th>\n",
       "      <td>...</td>\n",
       "      <td>...</td>\n",
       "      <td>...</td>\n",
       "      <td>...</td>\n",
       "      <td>...</td>\n",
       "      <td>...</td>\n",
       "      <td>...</td>\n",
       "      <td>...</td>\n",
       "      <td>...</td>\n",
       "      <td>...</td>\n",
       "      <td>...</td>\n",
       "      <td>...</td>\n",
       "      <td>...</td>\n",
       "      <td>...</td>\n",
       "      <td>...</td>\n",
       "      <td>...</td>\n",
       "      <td>...</td>\n",
       "      <td>...</td>\n",
       "    </tr>\n",
       "    <tr>\n",
       "      <th>10801</th>\n",
       "      <td>CLI9995</td>\n",
       "      <td>F</td>\n",
       "      <td>Si</td>\n",
       "      <td>76</td>\n",
       "      <td>No</td>\n",
       "      <td>Servicios</td>\n",
       "      <td>+20annos</td>\n",
       "      <td>Alto</td>\n",
       "      <td>2</td>\n",
       "      <td>1948</td>\n",
       "      <td>Generacion X</td>\n",
       "      <td>33389</td>\n",
       "      <td>Toledo</td>\n",
       "      <td>1424</td>\n",
       "      <td>30</td>\n",
       "      <td>1</td>\n",
       "      <td>106</td>\n",
       "      <td>NaN</td>\n",
       "    </tr>\n",
       "    <tr>\n",
       "      <th>10802</th>\n",
       "      <td>CLI9996</td>\n",
       "      <td>F</td>\n",
       "      <td>No</td>\n",
       "      <td>44</td>\n",
       "      <td>Si</td>\n",
       "      <td>Funcionario</td>\n",
       "      <td>+20annos</td>\n",
       "      <td>Bajo</td>\n",
       "      <td>1</td>\n",
       "      <td>1980</td>\n",
       "      <td>Generacion X</td>\n",
       "      <td>76067</td>\n",
       "      <td>Cordoba</td>\n",
       "      <td>1514</td>\n",
       "      <td>50</td>\n",
       "      <td>0</td>\n",
       "      <td>257</td>\n",
       "      <td>NaN</td>\n",
       "    </tr>\n",
       "    <tr>\n",
       "      <th>10803</th>\n",
       "      <td>CLI9997</td>\n",
       "      <td>M</td>\n",
       "      <td>Si</td>\n",
       "      <td>47</td>\n",
       "      <td>Si</td>\n",
       "      <td>Ejecutivo</td>\n",
       "      <td>+20annos</td>\n",
       "      <td>Alto</td>\n",
       "      <td>3</td>\n",
       "      <td>1977</td>\n",
       "      <td>Generacion X</td>\n",
       "      <td>61300</td>\n",
       "      <td>Lugo</td>\n",
       "      <td>1385</td>\n",
       "      <td>80</td>\n",
       "      <td>1</td>\n",
       "      <td>347</td>\n",
       "      <td>5.0</td>\n",
       "    </tr>\n",
       "    <tr>\n",
       "      <th>10804</th>\n",
       "      <td>CLI9998</td>\n",
       "      <td>M</td>\n",
       "      <td>Si</td>\n",
       "      <td>40</td>\n",
       "      <td>Si</td>\n",
       "      <td>Artista</td>\n",
       "      <td>10-20annos</td>\n",
       "      <td>Alto</td>\n",
       "      <td>3</td>\n",
       "      <td>1984</td>\n",
       "      <td>Millennials</td>\n",
       "      <td>106015</td>\n",
       "      <td>Cuenca</td>\n",
       "      <td>1974</td>\n",
       "      <td>30</td>\n",
       "      <td>0</td>\n",
       "      <td>582</td>\n",
       "      <td>1.0</td>\n",
       "    </tr>\n",
       "    <tr>\n",
       "      <th>10805</th>\n",
       "      <td>CLI9999</td>\n",
       "      <td>M</td>\n",
       "      <td>Si</td>\n",
       "      <td>39</td>\n",
       "      <td>Si</td>\n",
       "      <td>Otros</td>\n",
       "      <td>10-20annos</td>\n",
       "      <td>Medio</td>\n",
       "      <td>2</td>\n",
       "      <td>1985</td>\n",
       "      <td>Millennials</td>\n",
       "      <td>27169</td>\n",
       "      <td>Guadalajara</td>\n",
       "      <td>1951</td>\n",
       "      <td>30</td>\n",
       "      <td>0</td>\n",
       "      <td>460</td>\n",
       "      <td>3.0</td>\n",
       "    </tr>\n",
       "  </tbody>\n",
       "</table>\n",
       "<p>10806 rows × 18 columns</p>\n",
       "</div>"
      ],
      "text/plain": [
       "             ID Genero Casado  Edad Graduado    Profesion Experiencia_laboral  \\\n",
       "0         CLI10      F     Si    67       Si    Ingeniero            +20annos   \n",
       "1        CLI100      M     Si    64       Si       Medico            +20annos   \n",
       "2       CLI1000      M     Si    65       Si      Artista            +20annos   \n",
       "3      CLI10000      M     No    33       No  Funcionario          10-20annos   \n",
       "4      CLI10001      M     Si    52       No        Otros            +20annos   \n",
       "...         ...    ...    ...   ...      ...          ...                 ...   \n",
       "10801   CLI9995      F     Si    76       No    Servicios            +20annos   \n",
       "10802   CLI9996      F     No    44       Si  Funcionario            +20annos   \n",
       "10803   CLI9997      M     Si    47       Si    Ejecutivo            +20annos   \n",
       "10804   CLI9998      M     Si    40       Si      Artista          10-20annos   \n",
       "10805   CLI9999      M     Si    39       Si        Otros          10-20annos   \n",
       "\n",
       "      Gastoscore  Family_Size  anno_nacimiento    Generacion  \\\n",
       "0           Bajo            3             1957  Generacion X   \n",
       "1          Medio            2             1960  Generacion X   \n",
       "2          Medio            3             1959  Generacion X   \n",
       "3           Bajo            4             1991   Millennials   \n",
       "4          Medio            2             1972  Generacion X   \n",
       "...          ...          ...              ...           ...   \n",
       "10801       Alto            2             1948  Generacion X   \n",
       "10802       Bajo            1             1980  Generacion X   \n",
       "10803       Alto            3             1977  Generacion X   \n",
       "10804       Alto            3             1984   Millennials   \n",
       "10805      Medio            2             1985   Millennials   \n",
       "\n",
       "       Ingresos_anuales_brutos    Provincia  Digital_encuesta  \\\n",
       "0                        93442      Segovia              1385   \n",
       "1                        99774     Alicante              1052   \n",
       "2                        36756       Toledo              1717   \n",
       "3                        24616         Leon              1606   \n",
       "4                        29834       LLeida              1346   \n",
       "...                        ...          ...               ...   \n",
       "10801                    33389       Toledo              1424   \n",
       "10802                    76067      Cordoba              1514   \n",
       "10803                    61300         Lugo              1385   \n",
       "10804                   106015       Cuenca              1974   \n",
       "10805                    27169  Guadalajara              1951   \n",
       "\n",
       "       Gasto_medio_mensual_cuota  Abandono  Dias_cliente  Campanna_anno  \n",
       "0                             80         1           195            NaN  \n",
       "1                             50         1           360            5.0  \n",
       "2                             30         0           407            3.0  \n",
       "3                             30         0           544            4.0  \n",
       "4                             30         1           170            NaN  \n",
       "...                          ...       ...           ...            ...  \n",
       "10801                         30         1           106            NaN  \n",
       "10802                         50         0           257            NaN  \n",
       "10803                         80         1           347            5.0  \n",
       "10804                         30         0           582            1.0  \n",
       "10805                         30         0           460            3.0  \n",
       "\n",
       "[10806 rows x 18 columns]"
      ]
     },
     "execution_count": 2,
     "metadata": {},
     "output_type": "execute_result"
    }
   ],
   "source": [
    "path='../data/raw/data.csv'\n",
    "df=pd.read_csv(path)\n",
    "df"
   ]
  },
  {
   "cell_type": "markdown",
   "metadata": {},
   "source": [
    "**Vista general**"
   ]
  },
  {
   "cell_type": "code",
   "execution_count": 3,
   "metadata": {},
   "outputs": [
    {
     "name": "stdout",
     "output_type": "stream",
     "text": [
      "<class 'pandas.core.frame.DataFrame'>\n",
      "RangeIndex: 10806 entries, 0 to 10805\n",
      "Data columns (total 18 columns):\n",
      " #   Column                     Non-Null Count  Dtype  \n",
      "---  ------                     --------------  -----  \n",
      " 0   ID                         10806 non-null  object \n",
      " 1   Genero                     10806 non-null  object \n",
      " 2   Casado                     10616 non-null  object \n",
      " 3   Edad                       10806 non-null  int64  \n",
      " 4   Graduado                   10703 non-null  object \n",
      " 5   Profesion                  10806 non-null  object \n",
      " 6   Experiencia_laboral        10806 non-null  object \n",
      " 7   Gastoscore                 10806 non-null  object \n",
      " 8   Family_Size                10806 non-null  int64  \n",
      " 9   anno_nacimiento            10806 non-null  int64  \n",
      " 10  Generacion                 10806 non-null  object \n",
      " 11  Ingresos_anuales_brutos    10806 non-null  int64  \n",
      " 12  Provincia                  10806 non-null  object \n",
      " 13  Digital_encuesta           10806 non-null  int64  \n",
      " 14  Gasto_medio_mensual_cuota  10806 non-null  int64  \n",
      " 15  Abandono                   10806 non-null  int64  \n",
      " 16  Dias_cliente               10806 non-null  int64  \n",
      " 17  Campanna_anno              5099 non-null   float64\n",
      "dtypes: float64(1), int64(8), object(9)\n",
      "memory usage: 1.5+ MB\n"
     ]
    }
   ],
   "source": [
    "df.info()"
   ]
  },
  {
   "cell_type": "code",
   "execution_count": 4,
   "metadata": {},
   "outputs": [],
   "source": [
    "# copia para trabajar pca\n",
    "df_pca = df.copy()"
   ]
  },
  {
   "cell_type": "markdown",
   "metadata": {},
   "source": [
    "## Valores Nulos"
   ]
  },
  {
   "cell_type": "code",
   "execution_count": 5,
   "metadata": {},
   "outputs": [
    {
     "data": {
      "text/html": [
       "<div>\n",
       "<style scoped>\n",
       "    .dataframe tbody tr th:only-of-type {\n",
       "        vertical-align: middle;\n",
       "    }\n",
       "\n",
       "    .dataframe tbody tr th {\n",
       "        vertical-align: top;\n",
       "    }\n",
       "\n",
       "    .dataframe thead th {\n",
       "        text-align: right;\n",
       "    }\n",
       "</style>\n",
       "<table border=\"1\" class=\"dataframe\">\n",
       "  <thead>\n",
       "    <tr style=\"text-align: right;\">\n",
       "      <th></th>\n",
       "      <th>Nulos</th>\n",
       "      <th>% Nulos</th>\n",
       "    </tr>\n",
       "  </thead>\n",
       "  <tbody>\n",
       "    <tr>\n",
       "      <th>Casado</th>\n",
       "      <td>190</td>\n",
       "      <td>1.8</td>\n",
       "    </tr>\n",
       "    <tr>\n",
       "      <th>Graduado</th>\n",
       "      <td>103</td>\n",
       "      <td>1.0</td>\n",
       "    </tr>\n",
       "    <tr>\n",
       "      <th>Campanna_anno</th>\n",
       "      <td>5707</td>\n",
       "      <td>52.8</td>\n",
       "    </tr>\n",
       "  </tbody>\n",
       "</table>\n",
       "</div>"
      ],
      "text/plain": [
       "               Nulos  % Nulos\n",
       "Casado           190      1.8\n",
       "Graduado         103      1.0\n",
       "Campanna_anno   5707     52.8"
      ]
     },
     "execution_count": 5,
     "metadata": {},
     "output_type": "execute_result"
    }
   ],
   "source": [
    "nulos = df.isnull().sum()\n",
    "porcentaje_nulos = (nulos / len(df)) * 100\n",
    "tabla_nulos = pd.DataFrame({\n",
    "    'Nulos': nulos,\n",
    "    '% Nulos': porcentaje_nulos.round(1)\n",
    "})\n",
    "tabla_nulos[tabla_nulos['Nulos'] > 0]"
   ]
  },
  {
   "cell_type": "markdown",
   "metadata": {},
   "source": [
    "**Tratamiento de los nulos**\n",
    "- `Casados` y `Graduados`: los eliminamos porque son únicamente un 2%(pero a futuro).\n",
    "- `Campanna_años`:  Vamos a sustituir los valores faltantes de 0."
   ]
  },
  {
   "cell_type": "markdown",
   "metadata": {},
   "source": [
    "**Casadas y Graduados**"
   ]
  },
  {
   "cell_type": "code",
   "execution_count": 6,
   "metadata": {},
   "outputs": [],
   "source": [
    "df_pca = df.dropna(subset=['Casado', 'Graduado']).copy()"
   ]
  },
  {
   "cell_type": "markdown",
   "metadata": {},
   "source": [
    "**Campanna_años**"
   ]
  },
  {
   "cell_type": "code",
   "execution_count": 7,
   "metadata": {},
   "outputs": [],
   "source": [
    "df_pca['Campanna_anno'] = df['Campanna_anno'].fillna(0)"
   ]
  },
  {
   "cell_type": "markdown",
   "metadata": {},
   "source": [
    "Comprobamos que se hayan eliminado todos los nulos antes de continuar:"
   ]
  },
  {
   "cell_type": "code",
   "execution_count": 8,
   "metadata": {},
   "outputs": [
    {
     "data": {
      "text/plain": [
       "ID                           0\n",
       "Genero                       0\n",
       "Casado                       0\n",
       "Edad                         0\n",
       "Graduado                     0\n",
       "Profesion                    0\n",
       "Experiencia_laboral          0\n",
       "Gastoscore                   0\n",
       "Family_Size                  0\n",
       "anno_nacimiento              0\n",
       "Generacion                   0\n",
       "Ingresos_anuales_brutos      0\n",
       "Provincia                    0\n",
       "Digital_encuesta             0\n",
       "Gasto_medio_mensual_cuota    0\n",
       "Abandono                     0\n",
       "Dias_cliente                 0\n",
       "Campanna_anno                0\n",
       "dtype: int64"
      ]
     },
     "execution_count": 8,
     "metadata": {},
     "output_type": "execute_result"
    }
   ],
   "source": [
    "# verificación final\n",
    "df_pca.isnull().sum()"
   ]
  },
  {
   "cell_type": "markdown",
   "metadata": {},
   "source": [
    "## Tratamiento Variables Numéricas y Categoricas"
   ]
  },
  {
   "cell_type": "code",
   "execution_count": 9,
   "metadata": {},
   "outputs": [
    {
     "name": "stdout",
     "output_type": "stream",
     "text": [
      "Variables continuas: ID, Edad, Family_Size, anno_nacimiento, Ingresos_anuales_brutos, Provincia, Digital_encuesta, Gasto_medio_mensual_cuota, Abandono, Dias_cliente, Campanna_anno\n",
      "Variables categóricas: Genero, Casado, Graduado, Profesion, Experiencia_laboral, Gastoscore, Generacion\n"
     ]
    }
   ],
   "source": [
    "v_continuas = []\n",
    "v_categoricas = []\n",
    "for i in df_pca.columns:\n",
    "    if df_pca[i].nunique() > 25 or df[i].dtypes in ['float64', 'int64']:\n",
    "        v_continuas.append(i)\n",
    "    else:\n",
    "        v_categoricas.append(i)\n",
    "\n",
    "print('Variables continuas: {}'.format(', '.join(v_continuas)))\n",
    "print('Variables categóricas: {}'.format(', '.join(v_categoricas)))"
   ]
  },
  {
   "cell_type": "markdown",
   "metadata": {},
   "source": [
    "## Eliminación Columnas"
   ]
  },
  {
   "cell_type": "code",
   "execution_count": 10,
   "metadata": {},
   "outputs": [],
   "source": [
    "df_pca.drop(columns=['anno_nacimiento'], inplace=True)"
   ]
  },
  {
   "cell_type": "code",
   "execution_count": 11,
   "metadata": {},
   "outputs": [],
   "source": [
    "df_pca = df_pca.drop(columns=['ID'])"
   ]
  },
  {
   "cell_type": "markdown",
   "metadata": {},
   "source": [
    "## Categoricas"
   ]
  },
  {
   "cell_type": "markdown",
   "metadata": {},
   "source": [
    "Para preparar las variables categóricas de cara al análisis (PCA y clustering), se aplicaron diferentes técnicas de codificación en función del tipo de variable:\n",
    "\n",
    "- **Label Encoding** (0 / 1) para variables binarias:\n",
    "  - `Genero` (F/M)\n",
    "  - `Casado` (Sí/No)\n",
    "  - `Graduado` (Sí/No)\n",
    "\n",
    "- **One-Hot Encoding** para variables con múltiples categorías sin orden implícito:\n",
    "  - `Profesion` (tras ser agrupada en sectores macroeconómicos)\n",
    "\n",
    "- **Ordinal Encoding** para variables con un orden natural:\n",
    "  - `Experiencia_laboral` (<10 años, 10-20 años, +20 años)\n",
    "  - `Gastoscore` (Bajo, Medio, Alto)\n",
    "  - `Generacion` (Generacion Silenciosa, Generacion X, Millennials, Generacion Z)"
   ]
  },
  {
   "cell_type": "code",
   "execution_count": 12,
   "metadata": {},
   "outputs": [
    {
     "data": {
      "text/plain": [
       "{'Genero': ['F', 'M'],\n",
       " 'Casado': ['Si', 'No'],\n",
       " 'Graduado': ['Si', 'No'],\n",
       " 'Profesion': ['Ingeniero',\n",
       "  'Medico',\n",
       "  'Artista',\n",
       "  'Funcionario',\n",
       "  'Otros',\n",
       "  'Ejecutivo',\n",
       "  'Construccion',\n",
       "  'Negocios/empresa',\n",
       "  'Servicios'],\n",
       " 'Experiencia_laboral': ['+20annos', '10-20annos', '<10annos'],\n",
       " 'Gastoscore': ['Bajo', 'Medio', 'Alto'],\n",
       " 'Generacion': ['Generacion X',\n",
       "  'Millennials',\n",
       "  'Generacion Silenciosa',\n",
       "  'Generacion Z']}"
      ]
     },
     "execution_count": 12,
     "metadata": {},
     "output_type": "execute_result"
    }
   ],
   "source": [
    "valores_unicos = {col: df_pca[col].unique().tolist() for col in v_categoricas}\n",
    "valores_unicos"
   ]
  },
  {
   "cell_type": "markdown",
   "metadata": {},
   "source": [
    "### Label Encoder"
   ]
  },
  {
   "cell_type": "markdown",
   "metadata": {},
   "source": [
    "**Género/Casado/Graduado**"
   ]
  },
  {
   "cell_type": "code",
   "execution_count": 13,
   "metadata": {},
   "outputs": [
    {
     "name": "stdout",
     "output_type": "stream",
     "text": [
      "F: 0\n",
      "M: 1\n"
     ]
    }
   ],
   "source": [
    "# Genero\n",
    "le_genero = LabelEncoder()\n",
    "df_pca['Genero'] = le_genero.fit_transform(df_pca['Genero'])\n",
    "\n",
    "# Recordar valores del label\n",
    "for clase, valor in zip(le_genero.classes_, le_genero.transform(le_genero.classes_)):\n",
    "    print(f\"{clase}: {valor}\")"
   ]
  },
  {
   "cell_type": "code",
   "execution_count": 14,
   "metadata": {},
   "outputs": [
    {
     "name": "stdout",
     "output_type": "stream",
     "text": [
      "Codificación de 'Casado':\n",
      "No: 0\n",
      "Si: 1\n"
     ]
    }
   ],
   "source": [
    "# Casado\n",
    "le_casado = LabelEncoder()\n",
    "df_pca['Casado'] = le_casado.fit_transform(df_pca['Casado'])\n",
    "\n",
    "print(\"Codificación de 'Casado':\")\n",
    "for clase, valor in zip(le_casado.classes_, le_casado.transform(le_casado.classes_)):\n",
    "    print(f\"{clase}: {valor}\")"
   ]
  },
  {
   "cell_type": "code",
   "execution_count": 15,
   "metadata": {},
   "outputs": [
    {
     "name": "stdout",
     "output_type": "stream",
     "text": [
      "\n",
      "Codificación de 'Graduado':\n",
      "No: 0\n",
      "Si: 1\n"
     ]
    }
   ],
   "source": [
    "# Graduado\n",
    "le_graduado = LabelEncoder()\n",
    "df_pca['Graduado'] = le_graduado.fit_transform(df_pca['Graduado'])\n",
    "\n",
    "print(\"\\nCodificación de 'Graduado':\")\n",
    "for clase, valor in zip(le_graduado.classes_, le_graduado.transform(le_graduado.classes_)):\n",
    "    print(f\"{clase}: {valor}\")"
   ]
  },
  {
   "cell_type": "markdown",
   "metadata": {},
   "source": [
    "### One-hot Encoder"
   ]
  },
  {
   "cell_type": "markdown",
   "metadata": {},
   "source": [
    "**Profesión**\n",
    "\n",
    "Se agruparon las profesiones en sectores amplios para simplificar el análisis:\n",
    "\n",
    "- Técnico: Ingeniero, Construcción  \n",
    "- Salud: Médico  \n",
    "- Arte: Artista  \n",
    "- Público/Administrativo: Funcionario, Servicios  \n",
    "- Empresarial: Ejecutivo, Negocios/empresa  \n",
    "- Otros: Otros\n",
    "\n",
    "Esto reduce dimensionalidad sin perder representatividad para el PCA."
   ]
  },
  {
   "cell_type": "code",
   "execution_count": 16,
   "metadata": {},
   "outputs": [
    {
     "data": {
      "text/plain": [
       "Profesion\n",
       "Artista             3295\n",
       "Funcionario         1713\n",
       "Otros               1227\n",
       "Servicios            974\n",
       "Medico               919\n",
       "Ingeniero            915\n",
       "Ejecutivo            761\n",
       "Negocios/empresa     393\n",
       "Construccion         321\n",
       "Name: count, dtype: int64"
      ]
     },
     "execution_count": 16,
     "metadata": {},
     "output_type": "execute_result"
    }
   ],
   "source": [
    "conteo_profesiones = df_pca['Profesion'].value_counts()\n",
    "conteo_profesiones"
   ]
  },
  {
   "cell_type": "code",
   "execution_count": 17,
   "metadata": {},
   "outputs": [],
   "source": [
    "sectores_profesion = {\n",
    "    'Tecnico/Ing': ['Ingeniero', 'Construccion'],\n",
    "    'Salud': ['Medico'],\n",
    "    'Arte': ['Artista'],\n",
    "    'Administración/Servicios': ['Funcionario', 'Servicios'],\n",
    "    'Empresa/Finanzas': ['Ejecutivo', 'Negocios/empresa'],\n",
    "    'Otros': ['Otros'],\n",
    "}\n",
    "\n",
    "mapeo_profesion = {profesion: sector for sector, profesiones in sectores_profesion.items() for profesion in profesiones}\n",
    "df_pca['Profesion'] = df_pca['Profesion'].map(mapeo_profesion)"
   ]
  },
  {
   "cell_type": "markdown",
   "metadata": {},
   "source": [
    "**Provincia**"
   ]
  },
  {
   "cell_type": "code",
   "execution_count": 18,
   "metadata": {},
   "outputs": [
    {
     "name": "stdout",
     "output_type": "stream",
     "text": [
      "Número de provincias únicas: 50\n",
      "Provincias:\n",
      "- Segovia\n",
      "- Alicante\n",
      "- Toledo\n",
      "- Leon\n",
      "- LLeida\n",
      "- Ciudad Real\n",
      "- ivila\n",
      "- Guipiºzcoa\n",
      "- Vizcaya\n",
      "- Orense\n",
      "- Castellon\n",
      "- Pontevedra\n",
      "- Almeri­a\n",
      "- Valladolid\n",
      "- Jaen\n",
      "- Lugo\n",
      "- Santa Cruz de Tenerife\n",
      "- Albacete\n",
      "- Huelva\n",
      "- Salamanca\n",
      "- Ceuta\n",
      "- Baleares\n",
      "- Gerona\n",
      "- Barcelona\n",
      "- Sevilla\n",
      "- Guadalajara\n",
      "- Soria\n",
      "- Caceres\n",
      "- Madrid\n",
      "- Cordoba\n",
      "- Burgos\n",
      "- Navarra\n",
      "- Melilla\n",
      "- Granada\n",
      "- Badajoz\n",
      "- Valencia\n",
      "- Tarragona\n",
      "- La Corui±a\n",
      "- Las Palmas\n",
      "- Murcia\n",
      "- Palencia\n",
      "- La Rioja\n",
      "- Teruel\n",
      "- Zamora\n",
      "- Zaragoza\n",
      "- ilava\n",
      "- Cuenca\n",
      "- Huesca\n",
      "- Cadiz\n",
      "- Malaga\n"
     ]
    }
   ],
   "source": [
    "valores_provincia = df_pca['Provincia'].unique().tolist()\n",
    "\n",
    "# Provincias unicas\n",
    "print(f\"Número de provincias únicas: {len(valores_provincia)}\")\n",
    "print(\"Provincias:\")\n",
    "for provincia in valores_provincia:\n",
    "    print(\"-\", provincia)"
   ]
  },
  {
   "cell_type": "markdown",
   "metadata": {},
   "source": [
    "Primero se corrigieron errores ortográficos en los nombres de provincia:"
   ]
  },
  {
   "cell_type": "code",
   "execution_count": 19,
   "metadata": {},
   "outputs": [],
   "source": [
    "# Correaciones\n",
    "correcciones_errores = {\n",
    "    'ivila': 'Ávila',\n",
    "    'Guipiºzcoa': 'Guipúzcoa',\n",
    "    'La Corui±a': 'A Coruña',\n",
    "    'ilava': 'Álava',\n",
    "    'Almeri­a': 'Almería',\n",
    "    'LLeida': 'Lleida',\n",
    "    'Gerona': 'Girona',\n",
    "    'Caceres': 'Cáceres',\n",
    "    'Cordoba': 'Córdoba',\n",
    "    'Baleares': 'Illes Balears',\n",
    "    'Cadiz': 'Cádiz',\n",
    "    'Malaga': 'Málaga',\n",
    "    'Leon': 'León'\n",
    "}\n",
    "\n",
    "df_pca['Provincia'] = df_pca['Provincia'].replace(correcciones_errores)"
   ]
  },
  {
   "cell_type": "markdown",
   "metadata": {},
   "source": [
    "Se asocia cada provincia  a su comunidad autónoma correspondiente mediante un mapeo:"
   ]
  },
  {
   "cell_type": "code",
   "execution_count": 20,
   "metadata": {},
   "outputs": [],
   "source": [
    "comunidades_aut = {\n",
    "    'Álava': 'País Vasco',\n",
    "    'Albacete': 'Castilla La Mancha',\n",
    "    'Alicante': 'Comunidad Valenciana',\n",
    "    'Almería': 'Andalucía',\n",
    "    'Ávila': 'Castilla y León',\n",
    "    'Badajoz': 'Extremadura',\n",
    "    'Barcelona': 'Cataluña',\n",
    "    'Burgos': 'Castilla y León',\n",
    "    'Cáceres': 'Extremadura',\n",
    "    'Cádiz': 'Andalucía',\n",
    "    'Cantabria': 'Cantabria',\n",
    "    'Castellon': 'Comunidad Valenciana',\n",
    "    'Ciudad Real': 'Castilla La Mancha',\n",
    "    'Córdoba': 'Andalucía',\n",
    "    'A Coruña': 'Galicia',\n",
    "    'Cuenca': 'Castilla La Mancha',\n",
    "    'Girona': 'Cataluña',\n",
    "    'Granada': 'Andalucía',\n",
    "    'Guadalajara': 'Castilla La Mancha',\n",
    "    'Guipúzcoa': 'País Vasco',\n",
    "    'Huelva': 'Andalucía',\n",
    "    'Huesca': 'Aragón',\n",
    "    'Illes Balears': 'Islas Baleares',\n",
    "    'Jaen': 'Andalucía',\n",
    "    'La Rioja': 'La Rioja',\n",
    "    'Las Palmas': 'Canarias',\n",
    "    'León': 'Castilla y León',\n",
    "    'Lleida': 'Cataluña',\n",
    "    'Lugo': 'Galicia',\n",
    "    'Madrid': 'Comunidad de Madrid',\n",
    "    'Málaga': 'Andalucía',\n",
    "    'Murcia': 'Región de Murcia',\n",
    "    'Navarra': 'Navarra',\n",
    "    'Orense': 'Galicia', \n",
    "    'Palencia': 'Castilla y León',\n",
    "    'Pontevedra': 'Galicia',\n",
    "    'Salamanca': 'Castilla y León',\n",
    "    'Santa Cruz de Tenerife': 'Canarias',\n",
    "    'Segovia': 'Castilla y León',\n",
    "    'Sevilla': 'Andalucía',\n",
    "    'Soria': 'Castilla y León',\n",
    "    'Tarragona': 'Cataluña',\n",
    "    'Teruel': 'Aragón',\n",
    "    'Toledo': 'Castilla La Mancha',\n",
    "    'Valencia': 'Comunidad Valenciana',\n",
    "    'Valladolid': 'Castilla y León',\n",
    "    'Vizcaya': 'País Vasco',\n",
    "    'Zamora': 'Castilla y León',\n",
    "    'Zaragoza': 'Aragón',\n",
    "    'Ceuta': 'Ceuta',\n",
    "    'Melilla': 'Melilla'\n",
    "}\n",
    "df_pca['Comunidad'] = df_pca['Provincia'].map(comunidades_aut)"
   ]
  },
  {
   "cell_type": "markdown",
   "metadata": {},
   "source": [
    "Para reducir aún más el número de variables separamos las CA en zonas en función de su situación geográfica en el mapa:"
   ]
  },
  {
   "cell_type": "code",
   "execution_count": 21,
   "metadata": {},
   "outputs": [],
   "source": [
    "zonas = {\n",
    "    # Norte\n",
    "    'Galicia': 'Norte',\n",
    "    'Asturias': 'Norte',\n",
    "    'Cantabria': 'Norte',\n",
    "    'País Vasco': 'Norte',\n",
    "    'Navarra': 'Norte',\n",
    "    'Castilla y León': 'Norte',\n",
    "\n",
    "    # Sur\n",
    "    'Andalucía': 'Sur',\n",
    "    'Ceuta': 'Sur',\n",
    "    'Melilla': 'Sur',\n",
    "    'Extremadura': 'Sur',\n",
    "    'Canarias': 'Sur',\n",
    "\n",
    "    # Este\n",
    "    'Cataluña': 'Este',\n",
    "    'Comunidad Valenciana': 'Este',\n",
    "    'Islas Baleares': 'Este',\n",
    "    'Región de Murcia': 'Este',\n",
    "\n",
    "    # Centro\n",
    "    'Comunidad de Madrid': 'Centro',\n",
    "    'Castilla La Mancha': 'Centro',\n",
    "    'La Rioja': 'Centro',\n",
    "    'Aragón': 'Centro'\n",
    "}\n",
    "\n",
    "# Crear la columna Region\n",
    "df_pca['Zona'] = df_pca['Comunidad'].map(zonas)"
   ]
  },
  {
   "cell_type": "markdown",
   "metadata": {},
   "source": [
    "Comprobamos que no hayamos perdido ningún registro inicial de Provincia:"
   ]
  },
  {
   "cell_type": "code",
   "execution_count": 22,
   "metadata": {},
   "outputs": [
    {
     "name": "stdout",
     "output_type": "stream",
     "text": [
      "0\n",
      "0\n",
      "0\n"
     ]
    }
   ],
   "source": [
    "print(df_pca['Provincia'].isnull().sum())\n",
    "print(df_pca['Zona'].isnull().sum())\n",
    "print(df_pca['Comunidad'].isnull().sum())"
   ]
  },
  {
   "cell_type": "code",
   "execution_count": 23,
   "metadata": {},
   "outputs": [],
   "source": [
    "# Eliminamos las columnsa porque nos quedamos definitivamente con Zona\n",
    "df_pca.drop(columns=['Provincia', 'Comunidad'], inplace=True)"
   ]
  },
  {
   "cell_type": "markdown",
   "metadata": {},
   "source": [
    "**Campañas Año**"
   ]
  },
  {
   "cell_type": "markdown",
   "metadata": {},
   "source": [
    "Aunque la variable `Campanna_anno` está representada con valores numéricos, en realidad indica el tipo de campaña aplicada al cliente. Se empleo codificación one-hot para evitar que el modelo interprete relaciones numéricas que no existen entre los distintos tipos de campaña."
   ]
  },
  {
   "cell_type": "code",
   "execution_count": 24,
   "metadata": {},
   "outputs": [
    {
     "data": {
      "text/plain": [
       "Campanna_anno\n",
       "0.0    5550\n",
       "3.0    1816\n",
       "5.0    1518\n",
       "4.0    1052\n",
       "1.0     582\n",
       "Name: count, dtype: int64"
      ]
     },
     "execution_count": 24,
     "metadata": {},
     "output_type": "execute_result"
    }
   ],
   "source": [
    "df_pca['Campanna_anno'].value_counts()"
   ]
  },
  {
   "cell_type": "markdown",
   "metadata": {},
   "source": [
    "**One-hot Encoder**"
   ]
  },
  {
   "cell_type": "code",
   "execution_count": 25,
   "metadata": {},
   "outputs": [],
   "source": [
    "cols_one_hot = ['Zona', 'Profesion', 'Campanna_anno']"
   ]
  },
  {
   "cell_type": "code",
   "execution_count": 26,
   "metadata": {},
   "outputs": [],
   "source": [
    "ohe = OneHotEncoder(sparse_output=False, drop=None)"
   ]
  },
  {
   "cell_type": "code",
   "execution_count": 27,
   "metadata": {},
   "outputs": [],
   "source": [
    "encoded = ohe.fit_transform(df_pca[cols_one_hot])\n",
    "nombres_columnas = ohe.get_feature_names_out(cols_one_hot)\n",
    "\n",
    "# Nuevas columna a df_pca\n",
    "df_pca[nombres_columnas] = encoded\n",
    "\n",
    "# Eliminar columnas originales\n",
    "df_pca.drop(columns=cols_one_hot, inplace=True)"
   ]
  },
  {
   "cell_type": "markdown",
   "metadata": {},
   "source": [
    "### Ordinal"
   ]
  },
  {
   "cell_type": "markdown",
   "metadata": {},
   "source": [
    "Se eligió realizar esta codificación de forma manual para mantener un control total sobre el orden y asegurar su correcta interpretación por el model0.\n",
    "\n",
    "- **`Experiencia_laboral`**  \n",
    "  - <10annos → 0  \n",
    "   - 10-20annos → 1  \n",
    "   - +20annos → 2  \n",
    "\n",
    "- **`Gastoscore`**  \n",
    "  - Bajo → 0  \n",
    "  - Medio → 1  \n",
    "  - Alto → 2  \n",
    "\n",
    "- **`Generacion`**  \n",
    "  - Generacion Silenciosa → 0  \n",
    "  - Generacion X → 1  \n",
    "  - Millennials → 2  \n",
    "  - Generacion Z → 3  \n"
   ]
  },
  {
   "cell_type": "code",
   "execution_count": 28,
   "metadata": {},
   "outputs": [],
   "source": [
    "map_experiencia = {'<10annos': 0, '10-20annos': 1, '+20annos': 2}\n",
    "map_gastoscore = {'Bajo': 0, 'Medio': 1, 'Alto': 2}\n",
    "map_generacion = {\n",
    "    'Generacion Silenciosa': 0,\n",
    "    'Generacion X': 1,\n",
    "    'Millennials': 2,\n",
    "    'Generacion Z': 3\n",
    "}\n",
    "\n",
    "df_pca['Experiencia_laboral'] = df_pca['Experiencia_laboral'].map(map_experiencia)\n",
    "df_pca['Gastoscore'] = df_pca['Gastoscore'].map(map_gastoscore)\n",
    "df_pca['Generacion'] = df_pca['Generacion'].map(map_generacion)"
   ]
  },
  {
   "cell_type": "markdown",
   "metadata": {},
   "source": [
    "### Variables Categóricas Transformadas"
   ]
  },
  {
   "cell_type": "code",
   "execution_count": 29,
   "metadata": {},
   "outputs": [
    {
     "data": {
      "text/plain": [
       "Abandono\n",
       "0    7370\n",
       "1    3148\n",
       "Name: count, dtype: int64"
      ]
     },
     "execution_count": 29,
     "metadata": {},
     "output_type": "execute_result"
    }
   ],
   "source": [
    "df_pca['Abandono'].value_counts()"
   ]
  },
  {
   "cell_type": "markdown",
   "metadata": {},
   "source": [
    "### Variables Numéricas"
   ]
  },
  {
   "cell_type": "markdown",
   "metadata": {},
   "source": [
    "Se **estandarizaron las variables numéricas** para igualar su escala antes de aplicar PCA. Esto evita que variables con mayor rango dominen el análisis."
   ]
  },
  {
   "cell_type": "code",
   "execution_count": 30,
   "metadata": {},
   "outputs": [],
   "source": [
    "\n",
    "columnas_estandarizar = ['Edad','Family_Size','Ingresos_anuales_brutos','Digital_encuesta','Gasto_medio_mensual_cuota','Dias_cliente']\n",
    "\n",
    "\n",
    "scaler = StandardScaler()\n",
    "df_pca[columnas_estandarizar] = scaler.fit_transform(df_pca[columnas_estandarizar])"
   ]
  },
  {
   "cell_type": "code",
   "execution_count": 31,
   "metadata": {},
   "outputs": [],
   "source": [
    "df_pca.to_csv('pca.csv', index=False)"
   ]
  }
 ],
 "metadata": {
  "kernelspec": {
   "display_name": "Python 3",
   "language": "python",
   "name": "python3"
  },
  "language_info": {
   "codemirror_mode": {
    "name": "ipython",
    "version": 3
   },
   "file_extension": ".py",
   "mimetype": "text/x-python",
   "name": "python",
   "nbconvert_exporter": "python",
   "pygments_lexer": "ipython3",
   "version": "3.12.6"
  }
 },
 "nbformat": 4,
 "nbformat_minor": 2
}
