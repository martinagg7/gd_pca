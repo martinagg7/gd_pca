{
 "cells": [
  {
   "cell_type": "code",
   "execution_count": 1,
   "metadata": {},
   "outputs": [],
   "source": [
    "#librerias\n",
    "import pandas as pd\n",
    "import matplotlib.pyplot as plt"
   ]
  },
  {
   "cell_type": "code",
   "execution_count": 2,
   "metadata": {},
   "outputs": [],
   "source": [
    "#Lectura de archivo para análisis\n",
    "df = pd.read_csv(\"../data/output/cluster.csv\")\n",
    "import matplotlib.pyplot as plt\n",
    "import seaborn as sns\n",
    "from matplotlib.patches import Patch"
   ]
  },
  {
   "cell_type": "markdown",
   "metadata": {},
   "source": [
    "## Análisis Clusters"
   ]
  },
  {
   "cell_type": "markdown",
   "metadata": {},
   "source": [
    "Una vez asignado un cluster a cada cliente, se procede a analizar las características de cada grupo comparándolas con el total de la muestra. Para ello, se utiliza un índice relativo por variable, que permite identificar qué atributos están sobre- o infra-representados en cada cluster.\n",
    "\n",
    "\n",
    "Para cada variable:\n",
    "$\n",
    "\\text{Índice} = \\frac{\\text{Valor medio (o proporción) en el cluster}}{\\text{Valor medio (o proporción) en el total}}\n",
    "$\n",
    "\n",
    "- Un valor mayor que 1 indica sobre-representación del atributo en el cluster.\n",
    "- Un valor menor que 1 indica infra-representación.\n",
    "\n",
    "\n",
    "*Objetivo del índice:*\n",
    "\n",
    "- Identificar qué atributos definen más claramente cada cluster.\n",
    "- Facilitar la interpretación de los segmentos para acciones estratégicas (campañas, productos, atención...)."
   ]
  },
  {
   "cell_type": "markdown",
   "metadata": {},
   "source": [
    "## Indíces por Cluster"
   ]
  },
  {
   "cell_type": "markdown",
   "metadata": {},
   "source": [
    "Este cuadro resume cómo se ha tratado cada tipo de variable para calcular los índices comparativos:\n",
    "\n",
    "| Tipo de variable       | Método aplicado                                               |\n",
    "|------------------------|----------------------------------------------------------------|\n",
    "| **Continuas**          | Media por cluster / media total                               |\n",
    "| **Ordinales**          | Media por cluster / media total (codificadas como 0,1,2,...)  |\n",
    "| **Binarias (0 y 1)**   | Proporción con valor 0 y 1 en cluster / proporción total       |\n",
    "| **Dummies**            | Proporción con valor 1 en cluster / proporción total           |"
   ]
  },
  {
   "cell_type": "markdown",
   "metadata": {},
   "source": [
    "Definimos las variables,según el cuadro indicado para aplicarles sus respectivas transformaciones"
   ]
  },
  {
   "cell_type": "code",
   "execution_count": 3,
   "metadata": {},
   "outputs": [],
   "source": [
    "continuas = [\"Edad\", \"Family_Size\", \"Ingresos_anuales_brutos\", \"Digital_encuesta\", \"Dias_cliente\"]\n",
    "ordinales = [\"Gastoscore\", \"Experiencia_laboral\", \"Generacion\", \"Gasto_medio_mensual_cuota\"]\n",
    "binarias_01 = [\"Casado\", \"Graduado\", \"Abandono\", \"Genero\"]\n",
    "dummies = [col for col in df.columns if \"Profesion_\" in col or \"Zona_\" in col or \"Campanna_\" in col]"
   ]
  },
  {
   "cell_type": "markdown",
   "metadata": {},
   "source": [
    "**Indices Continuas**"
   ]
  },
  {
   "cell_type": "code",
   "execution_count": 4,
   "metadata": {},
   "outputs": [],
   "source": [
    "#(media por cluster / media total)\n",
    "media_vars = continuas\n",
    "media_cluster = df.groupby(\"cluster\")[media_vars].mean()\n",
    "media_total = df[media_vars].mean()\n",
    "indices_media = media_cluster / media_total"
   ]
  },
  {
   "cell_type": "markdown",
   "metadata": {},
   "source": [
    "**Indices Ordinales**"
   ]
  },
  {
   "cell_type": "code",
   "execution_count": 5,
   "metadata": {},
   "outputs": [],
   "source": [
    "#(proporción de cada categoría por cluster / total)\n",
    "indices_ordinales = pd.DataFrame(index=df['cluster'].unique())\n",
    "for var in ordinales:\n",
    "    categorias = sorted(df[var].dropna().unique())\n",
    "    tabla_cluster = df.groupby(\"cluster\")[var].value_counts(normalize=True).unstack().fillna(0)\n",
    "    tabla_total = df[var].value_counts(normalize=True)\n",
    "    for cat in categorias:\n",
    "        indices_ordinales[f\"{var}_{int(cat)}\"] = tabla_cluster[cat] / tabla_total[cat]\n"
   ]
  },
  {
   "cell_type": "markdown",
   "metadata": {},
   "source": [
    "**Indices Binarias**"
   ]
  },
  {
   "cell_type": "code",
   "execution_count": 6,
   "metadata": {},
   "outputs": [],
   "source": [
    "# Índices para binarias (0 y 1)\n",
    "indices_binarias = pd.DataFrame(index=df['cluster'].unique())\n",
    "for col in binarias_01:\n",
    "    for valor in [0, 1]:\n",
    "        prop_cluster = df.groupby(\"cluster\")[col].apply(lambda x: (x == valor).mean())\n",
    "        prop_total = (df[col] == valor).mean()\n",
    "        indices_binarias[f\"{col}_{valor}\"] = prop_cluster / prop_total"
   ]
  },
  {
   "cell_type": "markdown",
   "metadata": {},
   "source": [
    "**Indices Dummies**"
   ]
  },
  {
   "cell_type": "code",
   "execution_count": 7,
   "metadata": {},
   "outputs": [],
   "source": [
    "indices_dummies = pd.DataFrame(index=df['cluster'].unique())\n",
    "for col in dummies:\n",
    "    prop_cluster = df.groupby(\"cluster\")[col].mean()\n",
    "    prop_total = df[col].mean()\n",
    "    indices_dummies[col] = prop_cluster / prop_total\n"
   ]
  },
  {
   "cell_type": "markdown",
   "metadata": {},
   "source": [
    "**Indice Final**"
   ]
  },
  {
   "cell_type": "code",
   "execution_count": 8,
   "metadata": {},
   "outputs": [],
   "source": [
    "#  Unir todos los resultados\n",
    "indices = pd.concat([indices_media, indices_ordinales, indices_binarias, indices_dummies], axis=1)\n",
    "indices = indices.sort_index()\n",
    "indices = indices.round(2)\n",
    "indices.name = \"indices\""
   ]
  },
  {
   "cell_type": "code",
   "execution_count": 9,
   "metadata": {},
   "outputs": [
    {
     "data": {
      "application/vnd.microsoft.datawrangler.viewer.v0+json": {
       "columns": [
        {
         "name": "index",
         "rawType": "int64",
         "type": "integer"
        },
        {
         "name": "Edad",
         "rawType": "float64",
         "type": "float"
        },
        {
         "name": "Family_Size",
         "rawType": "float64",
         "type": "float"
        },
        {
         "name": "Ingresos_anuales_brutos",
         "rawType": "float64",
         "type": "float"
        },
        {
         "name": "Digital_encuesta",
         "rawType": "float64",
         "type": "float"
        },
        {
         "name": "Dias_cliente",
         "rawType": "float64",
         "type": "float"
        },
        {
         "name": "Gastoscore_0",
         "rawType": "float64",
         "type": "float"
        },
        {
         "name": "Gastoscore_1",
         "rawType": "float64",
         "type": "float"
        },
        {
         "name": "Gastoscore_2",
         "rawType": "float64",
         "type": "float"
        },
        {
         "name": "Experiencia_laboral_0",
         "rawType": "float64",
         "type": "float"
        },
        {
         "name": "Experiencia_laboral_1",
         "rawType": "float64",
         "type": "float"
        },
        {
         "name": "Experiencia_laboral_2",
         "rawType": "float64",
         "type": "float"
        },
        {
         "name": "Generacion_0",
         "rawType": "float64",
         "type": "float"
        },
        {
         "name": "Generacion_1",
         "rawType": "float64",
         "type": "float"
        },
        {
         "name": "Generacion_2",
         "rawType": "float64",
         "type": "float"
        },
        {
         "name": "Generacion_3",
         "rawType": "float64",
         "type": "float"
        },
        {
         "name": "Gasto_medio_mensual_cuota_0",
         "rawType": "float64",
         "type": "float"
        },
        {
         "name": "Gasto_medio_mensual_cuota_1",
         "rawType": "float64",
         "type": "float"
        },
        {
         "name": "Gasto_medio_mensual_cuota_2",
         "rawType": "float64",
         "type": "float"
        },
        {
         "name": "Gasto_medio_mensual_cuota_3",
         "rawType": "float64",
         "type": "float"
        },
        {
         "name": "Gasto_medio_mensual_cuota_4",
         "rawType": "float64",
         "type": "float"
        },
        {
         "name": "Casado_0",
         "rawType": "float64",
         "type": "float"
        },
        {
         "name": "Casado_1",
         "rawType": "float64",
         "type": "float"
        },
        {
         "name": "Graduado_0",
         "rawType": "float64",
         "type": "float"
        },
        {
         "name": "Graduado_1",
         "rawType": "float64",
         "type": "float"
        },
        {
         "name": "Abandono_0",
         "rawType": "float64",
         "type": "float"
        },
        {
         "name": "Abandono_1",
         "rawType": "float64",
         "type": "float"
        },
        {
         "name": "Genero_0",
         "rawType": "float64",
         "type": "float"
        },
        {
         "name": "Genero_1",
         "rawType": "float64",
         "type": "float"
        },
        {
         "name": "Profesion_Adminin/Servicios",
         "rawType": "float64",
         "type": "float"
        },
        {
         "name": "Profesion_Arte",
         "rawType": "float64",
         "type": "float"
        },
        {
         "name": "Profesion_Empresa/Finanzas",
         "rawType": "float64",
         "type": "float"
        },
        {
         "name": "Profesion_Otros",
         "rawType": "float64",
         "type": "float"
        },
        {
         "name": "Profesion_Salud",
         "rawType": "float64",
         "type": "float"
        },
        {
         "name": "Profesion_Tecnico/Ing",
         "rawType": "float64",
         "type": "float"
        },
        {
         "name": "Zona_Centro",
         "rawType": "float64",
         "type": "float"
        },
        {
         "name": "Zona_Este",
         "rawType": "float64",
         "type": "float"
        },
        {
         "name": "Zona_Islas",
         "rawType": "float64",
         "type": "float"
        },
        {
         "name": "Zona_Norte",
         "rawType": "float64",
         "type": "float"
        },
        {
         "name": "Zona_Sur",
         "rawType": "float64",
         "type": "float"
        },
        {
         "name": "Campanna_0",
         "rawType": "float64",
         "type": "float"
        },
        {
         "name": "Campanna_1",
         "rawType": "float64",
         "type": "float"
        },
        {
         "name": "Campanna_3",
         "rawType": "float64",
         "type": "float"
        },
        {
         "name": "Campanna_4",
         "rawType": "float64",
         "type": "float"
        },
        {
         "name": "Campanna_5",
         "rawType": "float64",
         "type": "float"
        }
       ],
       "conversionMethod": "pd.DataFrame",
       "ref": "9c47619b-593e-4d6b-a6c8-17e6f41bfeee",
       "rows": [
        [
         "0",
         "0.53",
         "1.52",
         "0.38",
         "1.53",
         "0.97",
         "1.58",
         "0.1",
         "0.11",
         "4.89",
         "0.25",
         "0.0",
         "0.0",
         "0.0",
         "1.05",
         "6.83",
         "1.65",
         "0.0",
         "0.0",
         "0.0",
         "0.0",
         "2.24",
         "0.13",
         "2.17",
         "0.31",
         "1.01",
         "0.97",
         "0.92",
         "1.06",
         "2.41",
         "0.22",
         "0.81",
         "0.53",
         "1.2",
         "0.58",
         "0.96",
         "0.99",
         "1.03",
         "1.0",
         "1.01",
         "1.04",
         "0.04",
         "1.15",
         "1.14",
         "0.93"
        ],
        [
         "1",
         "1.09",
         "1.43",
         "0.99",
         "0.87",
         "0.99",
         "0.22",
         "2.2",
         "2.24",
         "0.02",
         "0.47",
         "1.52",
         "0.05",
         "1.73",
         "0.56",
         "0.0",
         "1.6",
         "0.07",
         "0.1",
         "0.0",
         "0.04",
         "0.13",
         "1.61",
         "1.07",
         "0.96",
         "0.99",
         "1.03",
         "0.84",
         "1.13",
         "0.29",
         "1.13",
         "2.01",
         "1.18",
         "0.73",
         "1.26",
         "0.95",
         "0.99",
         "0.98",
         "1.01",
         "1.03",
         "1.02",
         "0.7",
         "1.0",
         "1.02",
         "1.01"
        ],
        [
         "2",
         "1.47",
         "0.96",
         "1.56",
         "0.77",
         "0.99",
         "0.11",
         "1.64",
         "3.6",
         "0.0",
         "0.01",
         "1.7",
         "4.24",
         "1.47",
         "0.01",
         "0.0",
         "0.24",
         "1.4",
         "4.62",
         "2.24",
         "3.62",
         "0.01",
         "1.69",
         "0.64",
         "1.22",
         "0.97",
         "1.08",
         "0.97",
         "1.02",
         "1.22",
         "1.1",
         "1.49",
         "0.66",
         "0.54",
         "0.49",
         "0.95",
         "0.99",
         "1.04",
         "1.0",
         "1.03",
         "1.02",
         "1.03",
         "0.95",
         "0.89",
         "1.06"
        ],
        [
         "3",
         "1.16",
         "0.58",
         "1.41",
         "0.92",
         "1.02",
         "1.35",
         "0.72",
         "0.01",
         "0.0",
         "0.27",
         "1.6",
         "1.03",
         "1.7",
         "0.4",
         "0.0",
         "0.27",
         "2.52",
         "0.78",
         "2.25",
         "1.41",
         "0.87",
         "1.09",
         "0.54",
         "1.27",
         "1.02",
         "0.96",
         "1.07",
         "0.94",
         "0.57",
         "1.46",
         "0.54",
         "1.18",
         "0.84",
         "1.06",
         "1.04",
         "0.96",
         "0.96",
         "1.02",
         "0.98",
         "0.97",
         "1.78",
         "0.89",
         "0.89",
         "1.02"
        ],
        [
         "4",
         "0.73",
         "0.92",
         "0.53",
         "1.02",
         "1.01",
         "1.36",
         "0.65",
         "0.11",
         "1.13",
         "3.24",
         "0.11",
         "0.0",
         "0.04",
         "2.58",
         "0.02",
         "1.56",
         "0.22",
         "0.0",
         "0.0",
         "0.0",
         "1.63",
         "0.56",
         "1.03",
         "0.98",
         "1.0",
         "0.99",
         "1.09",
         "0.93",
         "0.97",
         "0.79",
         "0.66",
         "1.18",
         "1.54",
         "1.35",
         "1.04",
         "1.06",
         "1.01",
         "0.97",
         "0.98",
         "0.98",
         "0.87",
         "1.06",
         "1.1",
         "0.96"
        ]
       ],
       "shape": {
        "columns": 44,
        "rows": 5
       }
      },
      "text/html": [
       "<div>\n",
       "<style scoped>\n",
       "    .dataframe tbody tr th:only-of-type {\n",
       "        vertical-align: middle;\n",
       "    }\n",
       "\n",
       "    .dataframe tbody tr th {\n",
       "        vertical-align: top;\n",
       "    }\n",
       "\n",
       "    .dataframe thead th {\n",
       "        text-align: right;\n",
       "    }\n",
       "</style>\n",
       "<table border=\"1\" class=\"dataframe\">\n",
       "  <thead>\n",
       "    <tr style=\"text-align: right;\">\n",
       "      <th></th>\n",
       "      <th>Edad</th>\n",
       "      <th>Family_Size</th>\n",
       "      <th>Ingresos_anuales_brutos</th>\n",
       "      <th>Digital_encuesta</th>\n",
       "      <th>Dias_cliente</th>\n",
       "      <th>Gastoscore_0</th>\n",
       "      <th>Gastoscore_1</th>\n",
       "      <th>Gastoscore_2</th>\n",
       "      <th>Experiencia_laboral_0</th>\n",
       "      <th>Experiencia_laboral_1</th>\n",
       "      <th>...</th>\n",
       "      <th>Zona_Centro</th>\n",
       "      <th>Zona_Este</th>\n",
       "      <th>Zona_Islas</th>\n",
       "      <th>Zona_Norte</th>\n",
       "      <th>Zona_Sur</th>\n",
       "      <th>Campanna_0</th>\n",
       "      <th>Campanna_1</th>\n",
       "      <th>Campanna_3</th>\n",
       "      <th>Campanna_4</th>\n",
       "      <th>Campanna_5</th>\n",
       "    </tr>\n",
       "  </thead>\n",
       "  <tbody>\n",
       "    <tr>\n",
       "      <th>0</th>\n",
       "      <td>0.53</td>\n",
       "      <td>1.52</td>\n",
       "      <td>0.38</td>\n",
       "      <td>1.53</td>\n",
       "      <td>0.97</td>\n",
       "      <td>1.58</td>\n",
       "      <td>0.10</td>\n",
       "      <td>0.11</td>\n",
       "      <td>4.89</td>\n",
       "      <td>0.25</td>\n",
       "      <td>...</td>\n",
       "      <td>0.96</td>\n",
       "      <td>0.99</td>\n",
       "      <td>1.03</td>\n",
       "      <td>1.00</td>\n",
       "      <td>1.01</td>\n",
       "      <td>1.04</td>\n",
       "      <td>0.04</td>\n",
       "      <td>1.15</td>\n",
       "      <td>1.14</td>\n",
       "      <td>0.93</td>\n",
       "    </tr>\n",
       "    <tr>\n",
       "      <th>1</th>\n",
       "      <td>1.09</td>\n",
       "      <td>1.43</td>\n",
       "      <td>0.99</td>\n",
       "      <td>0.87</td>\n",
       "      <td>0.99</td>\n",
       "      <td>0.22</td>\n",
       "      <td>2.20</td>\n",
       "      <td>2.24</td>\n",
       "      <td>0.02</td>\n",
       "      <td>0.47</td>\n",
       "      <td>...</td>\n",
       "      <td>0.95</td>\n",
       "      <td>0.99</td>\n",
       "      <td>0.98</td>\n",
       "      <td>1.01</td>\n",
       "      <td>1.03</td>\n",
       "      <td>1.02</td>\n",
       "      <td>0.70</td>\n",
       "      <td>1.00</td>\n",
       "      <td>1.02</td>\n",
       "      <td>1.01</td>\n",
       "    </tr>\n",
       "    <tr>\n",
       "      <th>2</th>\n",
       "      <td>1.47</td>\n",
       "      <td>0.96</td>\n",
       "      <td>1.56</td>\n",
       "      <td>0.77</td>\n",
       "      <td>0.99</td>\n",
       "      <td>0.11</td>\n",
       "      <td>1.64</td>\n",
       "      <td>3.60</td>\n",
       "      <td>0.00</td>\n",
       "      <td>0.01</td>\n",
       "      <td>...</td>\n",
       "      <td>0.95</td>\n",
       "      <td>0.99</td>\n",
       "      <td>1.04</td>\n",
       "      <td>1.00</td>\n",
       "      <td>1.03</td>\n",
       "      <td>1.02</td>\n",
       "      <td>1.03</td>\n",
       "      <td>0.95</td>\n",
       "      <td>0.89</td>\n",
       "      <td>1.06</td>\n",
       "    </tr>\n",
       "    <tr>\n",
       "      <th>3</th>\n",
       "      <td>1.16</td>\n",
       "      <td>0.58</td>\n",
       "      <td>1.41</td>\n",
       "      <td>0.92</td>\n",
       "      <td>1.02</td>\n",
       "      <td>1.35</td>\n",
       "      <td>0.72</td>\n",
       "      <td>0.01</td>\n",
       "      <td>0.00</td>\n",
       "      <td>0.27</td>\n",
       "      <td>...</td>\n",
       "      <td>1.04</td>\n",
       "      <td>0.96</td>\n",
       "      <td>0.96</td>\n",
       "      <td>1.02</td>\n",
       "      <td>0.98</td>\n",
       "      <td>0.97</td>\n",
       "      <td>1.78</td>\n",
       "      <td>0.89</td>\n",
       "      <td>0.89</td>\n",
       "      <td>1.02</td>\n",
       "    </tr>\n",
       "    <tr>\n",
       "      <th>4</th>\n",
       "      <td>0.73</td>\n",
       "      <td>0.92</td>\n",
       "      <td>0.53</td>\n",
       "      <td>1.02</td>\n",
       "      <td>1.01</td>\n",
       "      <td>1.36</td>\n",
       "      <td>0.65</td>\n",
       "      <td>0.11</td>\n",
       "      <td>1.13</td>\n",
       "      <td>3.24</td>\n",
       "      <td>...</td>\n",
       "      <td>1.04</td>\n",
       "      <td>1.06</td>\n",
       "      <td>1.01</td>\n",
       "      <td>0.97</td>\n",
       "      <td>0.98</td>\n",
       "      <td>0.98</td>\n",
       "      <td>0.87</td>\n",
       "      <td>1.06</td>\n",
       "      <td>1.10</td>\n",
       "      <td>0.96</td>\n",
       "    </tr>\n",
       "  </tbody>\n",
       "</table>\n",
       "<p>5 rows × 44 columns</p>\n",
       "</div>"
      ],
      "text/plain": [
       "   Edad  Family_Size  Ingresos_anuales_brutos  Digital_encuesta  Dias_cliente  \\\n",
       "0  0.53         1.52                     0.38              1.53          0.97   \n",
       "1  1.09         1.43                     0.99              0.87          0.99   \n",
       "2  1.47         0.96                     1.56              0.77          0.99   \n",
       "3  1.16         0.58                     1.41              0.92          1.02   \n",
       "4  0.73         0.92                     0.53              1.02          1.01   \n",
       "\n",
       "   Gastoscore_0  Gastoscore_1  Gastoscore_2  Experiencia_laboral_0  \\\n",
       "0          1.58          0.10          0.11                   4.89   \n",
       "1          0.22          2.20          2.24                   0.02   \n",
       "2          0.11          1.64          3.60                   0.00   \n",
       "3          1.35          0.72          0.01                   0.00   \n",
       "4          1.36          0.65          0.11                   1.13   \n",
       "\n",
       "   Experiencia_laboral_1  ...  Zona_Centro  Zona_Este  Zona_Islas  Zona_Norte  \\\n",
       "0                   0.25  ...         0.96       0.99        1.03        1.00   \n",
       "1                   0.47  ...         0.95       0.99        0.98        1.01   \n",
       "2                   0.01  ...         0.95       0.99        1.04        1.00   \n",
       "3                   0.27  ...         1.04       0.96        0.96        1.02   \n",
       "4                   3.24  ...         1.04       1.06        1.01        0.97   \n",
       "\n",
       "   Zona_Sur  Campanna_0  Campanna_1  Campanna_3  Campanna_4  Campanna_5  \n",
       "0      1.01        1.04        0.04        1.15        1.14        0.93  \n",
       "1      1.03        1.02        0.70        1.00        1.02        1.01  \n",
       "2      1.03        1.02        1.03        0.95        0.89        1.06  \n",
       "3      0.98        0.97        1.78        0.89        0.89        1.02  \n",
       "4      0.98        0.98        0.87        1.06        1.10        0.96  \n",
       "\n",
       "[5 rows x 44 columns]"
      ]
     },
     "execution_count": 9,
     "metadata": {},
     "output_type": "execute_result"
    }
   ],
   "source": [
    "indices"
   ]
  },
  {
   "cell_type": "markdown",
   "metadata": {},
   "source": [
    "Exportamos el fichero para analizar con PowerBi:"
   ]
  },
  {
   "cell_type": "code",
   "execution_count": 10,
   "metadata": {},
   "outputs": [],
   "source": [
    "indices.to_csv(\"indices_clusters.csv\", index=True)"
   ]
  },
  {
   "cell_type": "code",
   "execution_count": 11,
   "metadata": {},
   "outputs": [
    {
     "data": {
      "image/png": "[encoded data removed]",
      "text/plain": [
       "<Figure size 1800x900 with 1 Axes>"
      ]
     },
     "metadata": {},
     "output_type": "display_data"
    }
   ],
   "source": [
    "def categorizar_indice(valor):\n",
    "    if valor < 0.5:\n",
    "        return \"Muy por debajo (<0.5)\"\n",
    "    elif valor < 1:\n",
    "        return \"Por debajo (0.5-1)\"\n",
    "    elif valor < 2:\n",
    "        return \"Por encima (1-2)\"\n",
    "    else:\n",
    "        return \"Muy por encima (≥2)\"\n",
    "\n",
    "\n",
    "categorias = indices.stack().map(categorizar_indice).unstack()\n",
    "\n",
    "\n",
    "colores = {\n",
    "    \"Muy por debajo (<0.5)\": \"#4575b4\",\n",
    "    \"Por debajo (0.5-1)\": \"#91bfdb\",\n",
    "    \"Por encima (1-2)\": \"#fee090\",\n",
    "    \"Muy por encima (≥2)\": \"#d73027\"\n",
    "}\n",
    "\n",
    "\n",
    "colores_matriz = categorias.stack().map(colores).unstack()\n",
    "\n",
    "\n",
    "plt.figure(figsize=(18, 9))\n",
    "sns.heatmap(indices, annot=True, fmt=\".2f\", cmap=list(colores.values()),\n",
    "            cbar=False, linewidths=0.9, linecolor='gray', mask=indices.isnull(),\n",
    "            annot_kws={\"fontsize\": 7}, square=False, xticklabels=True, yticklabels=True)\n",
    "\n",
    "# Aplicar colores manualmente a cada celda\n",
    "for i in range(indices.shape[0]):\n",
    "    for j in range(indices.shape[1]):\n",
    "        plt.gca().add_patch(plt.Rectangle((j, i), 1, 1,\n",
    "                                          fill=True, color=colores_matriz.iloc[i, j],\n",
    "                                          linewidth=0))\n",
    "\n",
    "plt.title(\"Heatmap de índices por variable y cluster (colores discretos)\", fontsize=14)\n",
    "plt.xlabel(\"Variables\")\n",
    "plt.ylabel(\"Clusters\")\n",
    "plt.xticks(rotation=90)\n",
    "plt.tight_layout()\n",
    "plt.show()\n",
    "plt.show() \n"
   ]
  },
  {
   "cell_type": "markdown",
   "metadata": {},
   "source": [
    "### Comparativa Cluster"
   ]
  },
  {
   "cell_type": "markdown",
   "metadata": {},
   "source": [
    "\n",
    "\n",
    "La comparación entre clusters se organiza en dos bloques principales:\n",
    "\n",
    "\n",
    "1) **Perfil del Cliente**\n",
    "\n",
    "Este bloque describe quiénes son los clientes de cada cluster según sus características personales.\n",
    "\n",
    "Variables clave:\n",
    "- Edad, Family_Size, Ingresos_anuales_brutos: media por cluster\n",
    "- Casado, Graduado: proporción o índice por cluster\n",
    "- Generacion, Profesion, Zona: top 2 categorías más representadas por cluster (por índice)\n",
    "\n",
    "2) **Comportamiento frente a la Marca**\n",
    "\n",
    "Este bloque analiza cómo interactúan los clientes con la empresa.\n",
    "\n",
    "Variables clave:\n",
    "- Digital_encuesta, Dias_cliente: media por cluster\n",
    "- Abandono: proporción de abandono por cluster\n",
    "- Gastoscore, Experiencia_laboral, Gasto_medio_mensual_cuota: categoría más representada por cluster (por índice)\n",
    "\n"
   ]
  }
 ],
 "metadata": {
  "kernelspec": {
   "display_name": "Python 3",
   "language": "python",
   "name": "python3"
  },
  "language_info": {
   "codemirror_mode": {
    "name": "ipython",
    "version": 3
   },
   "file_extension": ".py",
   "mimetype": "text/x-python",
   "name": "python",
   "nbconvert_exporter": "python",
   "pygments_lexer": "ipython3",
   "version": "3.12.6"
  }
 },
 "nbformat": 4,
 "nbformat_minor": 2
}
